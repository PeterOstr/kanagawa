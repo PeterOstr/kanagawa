{
 "cells": [
  {
   "cell_type": "code",
   "execution_count": 103,
   "id": "initial_id",
   "metadata": {
    "collapsed": true,
    "ExecuteTime": {
     "end_time": "2023-12-13T13:53:34.012084200Z",
     "start_time": "2023-12-13T13:53:33.993081700Z"
    }
   },
   "outputs": [],
   "source": [
    "import pandas as pd\n",
    "import numpy as np\n",
    "from sklearn.model_selection import train_test_split, cross_val_score\n",
    "from sklearn.pipeline import Pipeline\n",
    "from sklearn.impute import KNNImputer, SimpleImputer\n",
    "from sklearn.preprocessing import PowerTransformer\n",
    "from sklearn.preprocessing import StandardScaler, OneHotEncoder\n",
    "from sklearn.compose import ColumnTransformer\n",
    "import xgboost as xgb\n",
    "from sklearn.model_selection import RandomizedSearchCV, GridSearchCV\n",
    "import mlflow\n",
    "import mlflow.sklearn\n",
    "from sklearn.metrics import accuracy_score, recall_score, f1_score, roc_auc_score, roc_curve\n",
    "import optuna\n",
    "\n",
    "import matplotlib.pyplot as plt\n",
    "import io\n",
    "import base64\n",
    "\n"
   ]
  },
  {
   "cell_type": "markdown",
   "source": [
    "# 1. Abstract\n",
    "In this notebook we will consider 3 ways of hyperparameters optimization:\n",
    "\n",
    "- by Grid Search\n",
    "- by Random Search\n",
    "- by Optuna optimization module"
   ],
   "metadata": {
    "collapsed": false
   },
   "id": "20b0c961035d0dc5"
  },
  {
   "cell_type": "markdown",
   "source": [
    "For testing purposes we will use the Diabetes prediction dataset from Kaggle (https://www.kaggle.com/datasets/iammustafatz/diabetes-prediction-dataset).\n",
    "\n",
    "About the Dataset\n",
    "\n",
    "The diabetes_prediction_dataset.csv file contains medical and demographic data of patients along with their diabetes status, whether positive or negative. It consists of various features such as age, gender, body mass index (BMI), hypertension, heart disease, smoking history, HbA1c level, and blood glucose level. The Dataset can be utilized to construct machine learning models that can predict the likelihood of diabetes in patients based on their medical history and demographic details."
   ],
   "metadata": {
    "collapsed": false
   },
   "id": "2a3487e4e3a393d6"
  },
  {
   "cell_type": "code",
   "execution_count": 58,
   "outputs": [
    {
     "data": {
      "text/plain": "       gender   age  hypertension  heart_disease smoking_history    bmi  \\\n0      Female  80.0             0              1           never  25.19   \n1      Female  54.0             0              0         No Info  27.32   \n2        Male  28.0             0              0           never  27.32   \n3      Female  36.0             0              0         current  23.45   \n4        Male  76.0             1              1         current  20.14   \n...       ...   ...           ...            ...             ...    ...   \n99995  Female  80.0             0              0         No Info  27.32   \n99996  Female   2.0             0              0         No Info  17.37   \n99997    Male  66.0             0              0          former  27.83   \n99998  Female  24.0             0              0           never  35.42   \n99999  Female  57.0             0              0         current  22.43   \n\n       HbA1c_level  blood_glucose_level  diabetes  \n0              6.6                  140         0  \n1              6.6                   80         0  \n2              5.7                  158         0  \n3              5.0                  155         0  \n4              4.8                  155         0  \n...            ...                  ...       ...  \n99995          6.2                   90         0  \n99996          6.5                  100         0  \n99997          5.7                  155         0  \n99998          4.0                  100         0  \n99999          6.6                   90         0  \n\n[100000 rows x 9 columns]",
      "text/html": "<div>\n<style scoped>\n    .dataframe tbody tr th:only-of-type {\n        vertical-align: middle;\n    }\n\n    .dataframe tbody tr th {\n        vertical-align: top;\n    }\n\n    .dataframe thead th {\n        text-align: right;\n    }\n</style>\n<table border=\"1\" class=\"dataframe\">\n  <thead>\n    <tr style=\"text-align: right;\">\n      <th></th>\n      <th>gender</th>\n      <th>age</th>\n      <th>hypertension</th>\n      <th>heart_disease</th>\n      <th>smoking_history</th>\n      <th>bmi</th>\n      <th>HbA1c_level</th>\n      <th>blood_glucose_level</th>\n      <th>diabetes</th>\n    </tr>\n  </thead>\n  <tbody>\n    <tr>\n      <th>0</th>\n      <td>Female</td>\n      <td>80.0</td>\n      <td>0</td>\n      <td>1</td>\n      <td>never</td>\n      <td>25.19</td>\n      <td>6.6</td>\n      <td>140</td>\n      <td>0</td>\n    </tr>\n    <tr>\n      <th>1</th>\n      <td>Female</td>\n      <td>54.0</td>\n      <td>0</td>\n      <td>0</td>\n      <td>No Info</td>\n      <td>27.32</td>\n      <td>6.6</td>\n      <td>80</td>\n      <td>0</td>\n    </tr>\n    <tr>\n      <th>2</th>\n      <td>Male</td>\n      <td>28.0</td>\n      <td>0</td>\n      <td>0</td>\n      <td>never</td>\n      <td>27.32</td>\n      <td>5.7</td>\n      <td>158</td>\n      <td>0</td>\n    </tr>\n    <tr>\n      <th>3</th>\n      <td>Female</td>\n      <td>36.0</td>\n      <td>0</td>\n      <td>0</td>\n      <td>current</td>\n      <td>23.45</td>\n      <td>5.0</td>\n      <td>155</td>\n      <td>0</td>\n    </tr>\n    <tr>\n      <th>4</th>\n      <td>Male</td>\n      <td>76.0</td>\n      <td>1</td>\n      <td>1</td>\n      <td>current</td>\n      <td>20.14</td>\n      <td>4.8</td>\n      <td>155</td>\n      <td>0</td>\n    </tr>\n    <tr>\n      <th>...</th>\n      <td>...</td>\n      <td>...</td>\n      <td>...</td>\n      <td>...</td>\n      <td>...</td>\n      <td>...</td>\n      <td>...</td>\n      <td>...</td>\n      <td>...</td>\n    </tr>\n    <tr>\n      <th>99995</th>\n      <td>Female</td>\n      <td>80.0</td>\n      <td>0</td>\n      <td>0</td>\n      <td>No Info</td>\n      <td>27.32</td>\n      <td>6.2</td>\n      <td>90</td>\n      <td>0</td>\n    </tr>\n    <tr>\n      <th>99996</th>\n      <td>Female</td>\n      <td>2.0</td>\n      <td>0</td>\n      <td>0</td>\n      <td>No Info</td>\n      <td>17.37</td>\n      <td>6.5</td>\n      <td>100</td>\n      <td>0</td>\n    </tr>\n    <tr>\n      <th>99997</th>\n      <td>Male</td>\n      <td>66.0</td>\n      <td>0</td>\n      <td>0</td>\n      <td>former</td>\n      <td>27.83</td>\n      <td>5.7</td>\n      <td>155</td>\n      <td>0</td>\n    </tr>\n    <tr>\n      <th>99998</th>\n      <td>Female</td>\n      <td>24.0</td>\n      <td>0</td>\n      <td>0</td>\n      <td>never</td>\n      <td>35.42</td>\n      <td>4.0</td>\n      <td>100</td>\n      <td>0</td>\n    </tr>\n    <tr>\n      <th>99999</th>\n      <td>Female</td>\n      <td>57.0</td>\n      <td>0</td>\n      <td>0</td>\n      <td>current</td>\n      <td>22.43</td>\n      <td>6.6</td>\n      <td>90</td>\n      <td>0</td>\n    </tr>\n  </tbody>\n</table>\n<p>100000 rows × 9 columns</p>\n</div>"
     },
     "execution_count": 58,
     "metadata": {},
     "output_type": "execute_result"
    }
   ],
   "source": [
    "data = pd.read_csv('diabetes_prediction_dataset.csv')\n",
    "data"
   ],
   "metadata": {
    "collapsed": false,
    "ExecuteTime": {
     "end_time": "2023-12-12T23:02:22.452011800Z",
     "start_time": "2023-12-12T23:02:22.314013200Z"
    }
   },
   "id": "2cf305ee855f7af0"
  },
  {
   "cell_type": "code",
   "execution_count": 59,
   "outputs": [
    {
     "name": "stdout",
     "output_type": "stream",
     "text": [
      "<class 'pandas.core.frame.DataFrame'>\n",
      "RangeIndex: 100000 entries, 0 to 99999\n",
      "Data columns (total 9 columns):\n",
      " #   Column               Non-Null Count   Dtype  \n",
      "---  ------               --------------   -----  \n",
      " 0   gender               100000 non-null  object \n",
      " 1   age                  100000 non-null  float64\n",
      " 2   hypertension         100000 non-null  int64  \n",
      " 3   heart_disease        100000 non-null  int64  \n",
      " 4   smoking_history      100000 non-null  object \n",
      " 5   bmi                  100000 non-null  float64\n",
      " 6   HbA1c_level          100000 non-null  float64\n",
      " 7   blood_glucose_level  100000 non-null  int64  \n",
      " 8   diabetes             100000 non-null  int64  \n",
      "dtypes: float64(3), int64(4), object(2)\n",
      "memory usage: 6.9+ MB\n"
     ]
    }
   ],
   "source": [
    "data.info()"
   ],
   "metadata": {
    "collapsed": false,
    "ExecuteTime": {
     "end_time": "2023-12-12T23:02:22.512010400Z",
     "start_time": "2023-12-12T23:02:22.457013100Z"
    }
   },
   "id": "4047357ca6b713b3"
  },
  {
   "cell_type": "code",
   "execution_count": 40,
   "outputs": [],
   "source": [
    "X = data.drop('diabetes',axis=1)\n",
    "y = data['diabetes']"
   ],
   "metadata": {
    "collapsed": false,
    "ExecuteTime": {
     "end_time": "2023-12-12T22:58:13.486138600Z",
     "start_time": "2023-12-12T22:58:13.419140700Z"
    }
   },
   "id": "972aee9a2512c05c"
  },
  {
   "cell_type": "code",
   "execution_count": 48,
   "outputs": [],
   "source": [
    "X_train, X_test, y_train, y_test = train_test_split(X,y, stratify=y,train_size=0.7)"
   ],
   "metadata": {
    "collapsed": false,
    "ExecuteTime": {
     "end_time": "2023-12-12T22:59:22.990617500Z",
     "start_time": "2023-12-12T22:59:22.934137600Z"
    }
   },
   "id": "5c757f7cf54ee85"
  },
  {
   "cell_type": "code",
   "execution_count": 49,
   "outputs": [
    {
     "data": {
      "text/plain": "       gender   age  hypertension  heart_disease smoking_history    bmi  \\\n32510  Female  80.0             0              0         No Info  27.32   \n62071    Male  74.0             1              0           never  27.32   \n96665  Female  20.0             0              0           never  20.37   \n43848    Male  27.0             0              0         No Info  20.93   \n47377  Female  30.0             0              0           never  27.82   \n...       ...   ...           ...            ...             ...    ...   \n92401  Female  74.0             0              0           never  28.12   \n1080     Male   3.0             0              0         No Info  14.31   \n13032  Female  63.0             0              0          former  33.90   \n46709    Male  17.0             0              0         No Info  27.86   \n29749    Male   2.0             0              0         No Info  18.31   \n\n       HbA1c_level  blood_glucose_level  \n32510          4.8                   80  \n62071          8.8                  200  \n96665          6.6                   90  \n43848          5.8                  200  \n47377          5.0                   80  \n...            ...                  ...  \n92401          8.8                  240  \n1080           6.6                   80  \n13032          8.2                  240  \n46709          6.0                   85  \n29749          6.6                   90  \n\n[70000 rows x 8 columns]",
      "text/html": "<div>\n<style scoped>\n    .dataframe tbody tr th:only-of-type {\n        vertical-align: middle;\n    }\n\n    .dataframe tbody tr th {\n        vertical-align: top;\n    }\n\n    .dataframe thead th {\n        text-align: right;\n    }\n</style>\n<table border=\"1\" class=\"dataframe\">\n  <thead>\n    <tr style=\"text-align: right;\">\n      <th></th>\n      <th>gender</th>\n      <th>age</th>\n      <th>hypertension</th>\n      <th>heart_disease</th>\n      <th>smoking_history</th>\n      <th>bmi</th>\n      <th>HbA1c_level</th>\n      <th>blood_glucose_level</th>\n    </tr>\n  </thead>\n  <tbody>\n    <tr>\n      <th>32510</th>\n      <td>Female</td>\n      <td>80.0</td>\n      <td>0</td>\n      <td>0</td>\n      <td>No Info</td>\n      <td>27.32</td>\n      <td>4.8</td>\n      <td>80</td>\n    </tr>\n    <tr>\n      <th>62071</th>\n      <td>Male</td>\n      <td>74.0</td>\n      <td>1</td>\n      <td>0</td>\n      <td>never</td>\n      <td>27.32</td>\n      <td>8.8</td>\n      <td>200</td>\n    </tr>\n    <tr>\n      <th>96665</th>\n      <td>Female</td>\n      <td>20.0</td>\n      <td>0</td>\n      <td>0</td>\n      <td>never</td>\n      <td>20.37</td>\n      <td>6.6</td>\n      <td>90</td>\n    </tr>\n    <tr>\n      <th>43848</th>\n      <td>Male</td>\n      <td>27.0</td>\n      <td>0</td>\n      <td>0</td>\n      <td>No Info</td>\n      <td>20.93</td>\n      <td>5.8</td>\n      <td>200</td>\n    </tr>\n    <tr>\n      <th>47377</th>\n      <td>Female</td>\n      <td>30.0</td>\n      <td>0</td>\n      <td>0</td>\n      <td>never</td>\n      <td>27.82</td>\n      <td>5.0</td>\n      <td>80</td>\n    </tr>\n    <tr>\n      <th>...</th>\n      <td>...</td>\n      <td>...</td>\n      <td>...</td>\n      <td>...</td>\n      <td>...</td>\n      <td>...</td>\n      <td>...</td>\n      <td>...</td>\n    </tr>\n    <tr>\n      <th>92401</th>\n      <td>Female</td>\n      <td>74.0</td>\n      <td>0</td>\n      <td>0</td>\n      <td>never</td>\n      <td>28.12</td>\n      <td>8.8</td>\n      <td>240</td>\n    </tr>\n    <tr>\n      <th>1080</th>\n      <td>Male</td>\n      <td>3.0</td>\n      <td>0</td>\n      <td>0</td>\n      <td>No Info</td>\n      <td>14.31</td>\n      <td>6.6</td>\n      <td>80</td>\n    </tr>\n    <tr>\n      <th>13032</th>\n      <td>Female</td>\n      <td>63.0</td>\n      <td>0</td>\n      <td>0</td>\n      <td>former</td>\n      <td>33.90</td>\n      <td>8.2</td>\n      <td>240</td>\n    </tr>\n    <tr>\n      <th>46709</th>\n      <td>Male</td>\n      <td>17.0</td>\n      <td>0</td>\n      <td>0</td>\n      <td>No Info</td>\n      <td>27.86</td>\n      <td>6.0</td>\n      <td>85</td>\n    </tr>\n    <tr>\n      <th>29749</th>\n      <td>Male</td>\n      <td>2.0</td>\n      <td>0</td>\n      <td>0</td>\n      <td>No Info</td>\n      <td>18.31</td>\n      <td>6.6</td>\n      <td>90</td>\n    </tr>\n  </tbody>\n</table>\n<p>70000 rows × 8 columns</p>\n</div>"
     },
     "execution_count": 49,
     "metadata": {},
     "output_type": "execute_result"
    }
   ],
   "source": [
    "X_train"
   ],
   "metadata": {
    "collapsed": false,
    "ExecuteTime": {
     "end_time": "2023-12-12T22:59:23.260616300Z",
     "start_time": "2023-12-12T22:59:23.230619500Z"
    }
   },
   "id": "f5bcd085336c9c4f"
  },
  {
   "cell_type": "code",
   "execution_count": 50,
   "outputs": [],
   "source": [
    "categorical_features = ['gender','hypertension','heart_disease','smoking_history']\n",
    "\n",
    "numeric_features = [i for i in X_train.columns if i not in categorical_features]\n",
    "\n",
    "\n",
    "# numeric data pipeline\n",
    "pipe_num = Pipeline([\n",
    "    ('imputer', SimpleImputer(strategy='median')),\n",
    "    ('power_tr', PowerTransformer()),\n",
    "    ('scaler', StandardScaler()) ])\n",
    "\n",
    "# cat data pipeline\n",
    "pipe_cat = Pipeline([\n",
    "    ('imputer', SimpleImputer(strategy='constant',fill_value='unknown')),\n",
    "    ('encoding', OneHotEncoder(sparse_output=False, handle_unknown='ignore')) ])\n",
    "\n",
    "# column transformer\n",
    "ct = ColumnTransformer([\n",
    "    ('pipe_num', pipe_num, numeric_features),\n",
    "    ('pipe_cat', pipe_cat, categorical_features) ])\n",
    "\n",
    "#full pipeline\n",
    "pipe = Pipeline([\n",
    "    ('column_transformer', ct),\n",
    "    ('model', xgb.XGBRegressor()),  # It denotes the fraction of observations to be randomly samples for each tree. \n",
    "])\n",
    "\n"
   ],
   "metadata": {
    "collapsed": false,
    "ExecuteTime": {
     "end_time": "2023-12-12T22:59:23.379614600Z",
     "start_time": "2023-12-12T22:59:23.325649300Z"
    }
   },
   "id": "21fea40c164ff12b"
  },
  {
   "cell_type": "code",
   "execution_count": 50,
   "outputs": [],
   "source": [],
   "metadata": {
    "collapsed": false,
    "ExecuteTime": {
     "end_time": "2023-12-12T22:59:23.489614300Z",
     "start_time": "2023-12-12T22:59:23.431616400Z"
    }
   },
   "id": "312d4b9d04a0e2a9"
  },
  {
   "cell_type": "markdown",
   "source": [
    "# 2.Hyperparameters of XG_Boost\n",
    "\n",
    "#### 1. eta\n",
    "\n",
    "eta [default=0.3, alias: learning_rate]\n",
    "\n",
    "It is analogous to learning rate in GBM.\n",
    "It is the step size shrinkage used in update to prevent overfitting.\n",
    "After each boosting step, we can directly get the weights of new features, and eta shrinks the feature weights to make the boosting process more conservative.\n",
    "It makes the model more robust by shrinking the weights on each step.\n",
    "range : [0,1]\n",
    "Typical final values : 0.01-0.2.\n",
    "\n",
    "#### 2.  gamma\n",
    "\n",
    "gamma [default=0, alias: min_split_loss]\n",
    "\n",
    "A node is split only when the resulting split gives a positive reduction in the loss function.\n",
    "Gamma specifies the minimum loss reduction required to make a split.\n",
    "It makes the algorithm conservative. The values can vary depending on the loss function and should be tuned.\n",
    "The larger gamma is, the more conservative the algorithm will be.\n",
    "Range: [0,∞]\n",
    "\n",
    "\n",
    "\n",
    "#### 3. max_depth\n",
    "\n",
    "max_depth [default=6]\n",
    "\n",
    "The maximum depth of a tree, same as GBM.\n",
    "It is used to control over-fitting as higher depth will allow model to learn relations very specific to a particular sample.\n",
    "Increasing this value will make the model more complex and more likely to overfit.\n",
    "The value 0 is only accepted in lossguided growing policy when tree_method is set as hist and it indicates no limit on depth.\n",
    "We should be careful when setting large value of max_depth because XGBoost aggressively consumes memory when training a deep tree.\n",
    "range: [0,∞] (0 is only accepted in lossguided growing policy when tree_method is set as hist.\n",
    "Should be tuned using CV.\n",
    "Typical values: 3-10\n",
    "\n",
    "#### 4. min_child_weight\n",
    "\n",
    "min_child_weight [default=1]\n",
    "\n",
    "It defines the minimum sum of weights of all observations required in a child.\n",
    "This is similar to min_child_leaf in GBM but not exactly. This refers to min “sum of weights” of observations while GBM has min “number of observations”.\n",
    "It is used to control over-fitting.\n",
    "Higher values prevent a model from learning relations which might be highly specific to the particular sample selected for a tree.\n",
    "    Too high values can lead to under-fitting.\n",
    "Hence, it should be tuned using CV.\n",
    "The larger min_child_weight is, the more conservative the algorithm will be.\n",
    "range: [0,∞]\n",
    "\n",
    "#### 5. max_delta_step\n",
    "\n",
    "max_delta_step [default=0]\n",
    "\n",
    "In maximum delta step we allow each tree’s weight estimation to be.\n",
    "If the value is set to 0, it means there is no constraint.\n",
    "If it is set to a positive value, it can help making the update step more conservative.\n",
    "Usually this parameter is not needed, but it might help in logistic regression when class is extremely imbalanced.\n",
    "Set it to value of 1-10 might help control the update.\n",
    "range: [0,∞]\n",
    "\n",
    "#### 6. subsample\n",
    "\n",
    "subsample [default=1]\n",
    "\n",
    "It denotes the fraction of observations to be randomly samples for each tree.\n",
    "    Subsample ratio of the training instances.\n",
    "Setting it to 0.5 means that XGBoost would randomly sample half of the training data prior to growing trees. - This will prevent overfitting.\n",
    "Subsampling will occur once in every boosting iteration.\n",
    "Lower values make the algorithm more conservative and prevents overfitting but too small values might lead to under-fitting.\n",
    "Typical values: 0.5-1\n",
    "range: (0,1]\n",
    "\n",
    "\n",
    "#### 7. colsample_bytree, colsample_bylevel, colsample_bynode\n",
    "Table of Contents\n",
    "\n",
    "colsample_bytree, colsample_bylevel, colsample_bynode [default=1]\n",
    "\n",
    "This is a family of parameters for subsampling of columns.\n",
    "\n",
    "All colsample_by parameters have a range of (0, 1], the default value of 1, and specify the fraction of columns to be subsampled.\n",
    "\n",
    "colsample_bytree is the subsample ratio of columns when constructing each tree. Subsampling occurs once for every tree constructed.\n",
    "\n",
    "colsample_bylevel is the subsample ratio of columns for each level. Subsampling occurs once for every new depth level reached in a tree. Columns are subsampled from the set of columns chosen for the current tree.\n",
    "\n",
    "colsample_bynode is the subsample ratio of columns for each node (split). Subsampling occurs once every time a new split is evaluated. Columns are subsampled from the set of columns chosen for the current level.\n",
    "\n",
    "colsample_by* parameters work cumulatively. For instance, the combination {'colsample_bytree':0.5, 'colsample_bylevel':0.5, 'colsample_bynode':0.5} with 64 features will leave 8 features to choose from at each split.\n",
    "\n",
    "#### 8. lambda\n",
    "\n",
    "        lambda [default=1, alias: reg_lambda]\n",
    "\n",
    "L2 regularization term on weights (analogous to Ridge regression).\n",
    "This is used to handle the regularization part of XGBoost.\n",
    "Increasing this value will make model more conservative.\n",
    "\n",
    "\n",
    "#### 9. alpha\n",
    "\n",
    "alpha [default=0, alias: reg_alpha]\n",
    "\n",
    "L1 regularization term on weights (analogous to Lasso regression).\n",
    "It can be used in case of very high dimensionality so that the algorithm runs faster when implemented.\n",
    "Increasing this value will make model more conservative.\n",
    "\n",
    "\n",
    "#### 10. tree_method\n",
    "\n",
    "tree_method string [default= auto]\n",
    "\n",
    "The tree construction algorithm used in XGBoost.\n",
    "\n",
    "XGBoost supports approx, hist and gpu_hist for distributed training. Experimental support for external memory is available for approx and gpu_hist.\n",
    "\n",
    "Choices: auto, exact, approx, hist, gpu_hist\n",
    "\n",
    "auto: Use heuristic to choose the fastest method.\n",
    "\n",
    "For small to medium dataset, exact greedy (exact) will be used.\n",
    "\n",
    "For very large dataset, approximate algorithm (approx) will be chosen.\n",
    "\n",
    "Because old behavior is always use exact greedy in single machine, user will get a message when approximate algorithm is chosen to notify this choice.\n",
    "\n",
    "exact: Exact greedy algorithm.\n",
    "\n",
    "approx: Approximate greedy algorithm using quantile sketch and gradient histogram.\n",
    "\n",
    "hist: Fast histogram optimized approximate greedy algorithm. It uses some performance improvements such as bins caching.\n",
    "\n",
    "gpu_hist: GPU implementation of hist algorithm.\n",
    "\n",
    "#### 11. scale_pos_weight\n",
    "\n",
    "scale_pos_weight [default=1]\n",
    "\n",
    "It controls the balance of positive and negative weights,\n",
    "It is useful for imbalanced classes.\n",
    "    A value greater than 0 should be used in case of high class imbalance as it helps in faster convergence.\n",
    "A typical value to consider: sum(negative instances) / sum(positive instances).\n",
    "\n",
    "\n",
    "#### 12. max_leaves\n",
    "\n",
    "max_leaves [default=0]\n",
    "\n",
    "Maximum number of nodes to be added.\n",
    "Only relevant when grow_policy=lossguide is set.\n",
    "There are other hyperparameters like sketch_eps,updater, refresh_leaf, process_type, grow_policy, max_bin, predictor and num_parallel_tree.\n",
    "\n",
    "(source: https://www.kaggle.com/code/prashant111/a-guide-on-xgboost-hyperparameters-tuning#2.-XGBoost-hyperparameters- )\n"
   ],
   "metadata": {
    "collapsed": false
   },
   "id": "48f49387debcf0c5"
  },
  {
   "cell_type": "code",
   "execution_count": 54,
   "outputs": [],
   "source": [
    "params = { 'model__eta': (0.01, 0.2),\n",
    "           'model__gamma': (0, 5),\n",
    "           'model__max_depth': (3, 10),\n",
    "           'model__min_child_weight': (1, 10),\n",
    "           'model__max_delta_step': (0, 10),\n",
    "           'model__subsample': (0.1,1),\n",
    "           'model__colsample_bytree': (0.5, 1),\n",
    "           'model__colsample_bylevel': (0.5, 1),\n",
    "           'model__colsample_bynode': (0.5, 1),\n",
    "           'model__lambda': (0, 5),\n",
    "           'model__alpha': (0, 5),\n",
    "           'model__scale_pos_weight': (1, 10),\n",
    "           'model__max_leaves': (0, 100)\n",
    "           }"
   ],
   "metadata": {
    "collapsed": false,
    "ExecuteTime": {
     "end_time": "2023-12-12T23:00:53.261436500Z",
     "start_time": "2023-12-12T23:00:53.249439600Z"
    }
   },
   "id": "4164dcd3c99cb126"
  },
  {
   "cell_type": "markdown",
   "source": [
    "### Random search"
   ],
   "metadata": {
    "collapsed": false
   },
   "id": "247b2afa39de24a5"
  },
  {
   "cell_type": "code",
   "execution_count": 55,
   "outputs": [
    {
     "data": {
      "text/plain": "RandomizedSearchCV(cv=5,\n                   estimator=Pipeline(steps=[('column_transformer',\n                                              ColumnTransformer(transformers=[('pipe_num',\n                                                                               Pipeline(steps=[('imputer',\n                                                                                                SimpleImputer(strategy='median')),\n                                                                                               ('power_tr',\n                                                                                                PowerTransformer()),\n                                                                                               ('scaler',\n                                                                                                StandardScaler())]),\n                                                                               ['age',\n                                                                                'bmi',\n                                                                                'HbA1c_level',\n                                                                                'blood_glucose_level']),\n                                                                              ('pipe_cat',\n                                                                               Pipeline(steps=[('imputer',\n                                                                                                SimpleImputer(fill_va...\n                   param_distributions={'model__alpha': (0, 5),\n                                        'model__colsample_bylevel': (0.5, 1),\n                                        'model__colsample_bynode': (0.5, 1),\n                                        'model__colsample_bytree': (0.5, 1),\n                                        'model__eta': (0.01, 0.2),\n                                        'model__gamma': (0, 5),\n                                        'model__lambda': (0, 5),\n                                        'model__max_delta_step': (0, 10),\n                                        'model__max_depth': (3, 10),\n                                        'model__max_leaves': (0, 100),\n                                        'model__min_child_weight': (1, 10),\n                                        'model__scale_pos_weight': (1, 10),\n                                        'model__subsample': (0.1, 1)})",
      "text/html": "<style>#sk-container-id-2 {color: black;}#sk-container-id-2 pre{padding: 0;}#sk-container-id-2 div.sk-toggleable {background-color: white;}#sk-container-id-2 label.sk-toggleable__label {cursor: pointer;display: block;width: 100%;margin-bottom: 0;padding: 0.3em;box-sizing: border-box;text-align: center;}#sk-container-id-2 label.sk-toggleable__label-arrow:before {content: \"▸\";float: left;margin-right: 0.25em;color: #696969;}#sk-container-id-2 label.sk-toggleable__label-arrow:hover:before {color: black;}#sk-container-id-2 div.sk-estimator:hover label.sk-toggleable__label-arrow:before {color: black;}#sk-container-id-2 div.sk-toggleable__content {max-height: 0;max-width: 0;overflow: hidden;text-align: left;background-color: #f0f8ff;}#sk-container-id-2 div.sk-toggleable__content pre {margin: 0.2em;color: black;border-radius: 0.25em;background-color: #f0f8ff;}#sk-container-id-2 input.sk-toggleable__control:checked~div.sk-toggleable__content {max-height: 200px;max-width: 100%;overflow: auto;}#sk-container-id-2 input.sk-toggleable__control:checked~label.sk-toggleable__label-arrow:before {content: \"▾\";}#sk-container-id-2 div.sk-estimator input.sk-toggleable__control:checked~label.sk-toggleable__label {background-color: #d4ebff;}#sk-container-id-2 div.sk-label input.sk-toggleable__control:checked~label.sk-toggleable__label {background-color: #d4ebff;}#sk-container-id-2 input.sk-hidden--visually {border: 0;clip: rect(1px 1px 1px 1px);clip: rect(1px, 1px, 1px, 1px);height: 1px;margin: -1px;overflow: hidden;padding: 0;position: absolute;width: 1px;}#sk-container-id-2 div.sk-estimator {font-family: monospace;background-color: #f0f8ff;border: 1px dotted black;border-radius: 0.25em;box-sizing: border-box;margin-bottom: 0.5em;}#sk-container-id-2 div.sk-estimator:hover {background-color: #d4ebff;}#sk-container-id-2 div.sk-parallel-item::after {content: \"\";width: 100%;border-bottom: 1px solid gray;flex-grow: 1;}#sk-container-id-2 div.sk-label:hover label.sk-toggleable__label {background-color: #d4ebff;}#sk-container-id-2 div.sk-serial::before {content: \"\";position: absolute;border-left: 1px solid gray;box-sizing: border-box;top: 0;bottom: 0;left: 50%;z-index: 0;}#sk-container-id-2 div.sk-serial {display: flex;flex-direction: column;align-items: center;background-color: white;padding-right: 0.2em;padding-left: 0.2em;position: relative;}#sk-container-id-2 div.sk-item {position: relative;z-index: 1;}#sk-container-id-2 div.sk-parallel {display: flex;align-items: stretch;justify-content: center;background-color: white;position: relative;}#sk-container-id-2 div.sk-item::before, #sk-container-id-2 div.sk-parallel-item::before {content: \"\";position: absolute;border-left: 1px solid gray;box-sizing: border-box;top: 0;bottom: 0;left: 50%;z-index: -1;}#sk-container-id-2 div.sk-parallel-item {display: flex;flex-direction: column;z-index: 1;position: relative;background-color: white;}#sk-container-id-2 div.sk-parallel-item:first-child::after {align-self: flex-end;width: 50%;}#sk-container-id-2 div.sk-parallel-item:last-child::after {align-self: flex-start;width: 50%;}#sk-container-id-2 div.sk-parallel-item:only-child::after {width: 0;}#sk-container-id-2 div.sk-dashed-wrapped {border: 1px dashed gray;margin: 0 0.4em 0.5em 0.4em;box-sizing: border-box;padding-bottom: 0.4em;background-color: white;}#sk-container-id-2 div.sk-label label {font-family: monospace;font-weight: bold;display: inline-block;line-height: 1.2em;}#sk-container-id-2 div.sk-label-container {text-align: center;}#sk-container-id-2 div.sk-container {/* jupyter's `normalize.less` sets `[hidden] { display: none; }` but bootstrap.min.css set `[hidden] { display: none !important; }` so we also need the `!important` here to be able to override the default hidden behavior on the sphinx rendered scikit-learn.org. See: https://github.com/scikit-learn/scikit-learn/issues/21755 */display: inline-block !important;position: relative;}#sk-container-id-2 div.sk-text-repr-fallback {display: none;}</style><div id=\"sk-container-id-2\" class=\"sk-top-container\"><div class=\"sk-text-repr-fallback\"><pre>RandomizedSearchCV(cv=5,\n                   estimator=Pipeline(steps=[(&#x27;column_transformer&#x27;,\n                                              ColumnTransformer(transformers=[(&#x27;pipe_num&#x27;,\n                                                                               Pipeline(steps=[(&#x27;imputer&#x27;,\n                                                                                                SimpleImputer(strategy=&#x27;median&#x27;)),\n                                                                                               (&#x27;power_tr&#x27;,\n                                                                                                PowerTransformer()),\n                                                                                               (&#x27;scaler&#x27;,\n                                                                                                StandardScaler())]),\n                                                                               [&#x27;age&#x27;,\n                                                                                &#x27;bmi&#x27;,\n                                                                                &#x27;HbA1c_level&#x27;,\n                                                                                &#x27;blood_glucose_level&#x27;]),\n                                                                              (&#x27;pipe_cat&#x27;,\n                                                                               Pipeline(steps=[(&#x27;imputer&#x27;,\n                                                                                                SimpleImputer(fill_va...\n                   param_distributions={&#x27;model__alpha&#x27;: (0, 5),\n                                        &#x27;model__colsample_bylevel&#x27;: (0.5, 1),\n                                        &#x27;model__colsample_bynode&#x27;: (0.5, 1),\n                                        &#x27;model__colsample_bytree&#x27;: (0.5, 1),\n                                        &#x27;model__eta&#x27;: (0.01, 0.2),\n                                        &#x27;model__gamma&#x27;: (0, 5),\n                                        &#x27;model__lambda&#x27;: (0, 5),\n                                        &#x27;model__max_delta_step&#x27;: (0, 10),\n                                        &#x27;model__max_depth&#x27;: (3, 10),\n                                        &#x27;model__max_leaves&#x27;: (0, 100),\n                                        &#x27;model__min_child_weight&#x27;: (1, 10),\n                                        &#x27;model__scale_pos_weight&#x27;: (1, 10),\n                                        &#x27;model__subsample&#x27;: (0.1, 1)})</pre><b>In a Jupyter environment, please rerun this cell to show the HTML representation or trust the notebook. <br />On GitHub, the HTML representation is unable to render, please try loading this page with nbviewer.org.</b></div><div class=\"sk-container\" hidden><div class=\"sk-item sk-dashed-wrapped\"><div class=\"sk-label-container\"><div class=\"sk-label sk-toggleable\"><input class=\"sk-toggleable__control sk-hidden--visually\" id=\"sk-estimator-id-12\" type=\"checkbox\" ><label for=\"sk-estimator-id-12\" class=\"sk-toggleable__label sk-toggleable__label-arrow\">RandomizedSearchCV</label><div class=\"sk-toggleable__content\"><pre>RandomizedSearchCV(cv=5,\n                   estimator=Pipeline(steps=[(&#x27;column_transformer&#x27;,\n                                              ColumnTransformer(transformers=[(&#x27;pipe_num&#x27;,\n                                                                               Pipeline(steps=[(&#x27;imputer&#x27;,\n                                                                                                SimpleImputer(strategy=&#x27;median&#x27;)),\n                                                                                               (&#x27;power_tr&#x27;,\n                                                                                                PowerTransformer()),\n                                                                                               (&#x27;scaler&#x27;,\n                                                                                                StandardScaler())]),\n                                                                               [&#x27;age&#x27;,\n                                                                                &#x27;bmi&#x27;,\n                                                                                &#x27;HbA1c_level&#x27;,\n                                                                                &#x27;blood_glucose_level&#x27;]),\n                                                                              (&#x27;pipe_cat&#x27;,\n                                                                               Pipeline(steps=[(&#x27;imputer&#x27;,\n                                                                                                SimpleImputer(fill_va...\n                   param_distributions={&#x27;model__alpha&#x27;: (0, 5),\n                                        &#x27;model__colsample_bylevel&#x27;: (0.5, 1),\n                                        &#x27;model__colsample_bynode&#x27;: (0.5, 1),\n                                        &#x27;model__colsample_bytree&#x27;: (0.5, 1),\n                                        &#x27;model__eta&#x27;: (0.01, 0.2),\n                                        &#x27;model__gamma&#x27;: (0, 5),\n                                        &#x27;model__lambda&#x27;: (0, 5),\n                                        &#x27;model__max_delta_step&#x27;: (0, 10),\n                                        &#x27;model__max_depth&#x27;: (3, 10),\n                                        &#x27;model__max_leaves&#x27;: (0, 100),\n                                        &#x27;model__min_child_weight&#x27;: (1, 10),\n                                        &#x27;model__scale_pos_weight&#x27;: (1, 10),\n                                        &#x27;model__subsample&#x27;: (0.1, 1)})</pre></div></div></div><div class=\"sk-parallel\"><div class=\"sk-parallel-item\"><div class=\"sk-item\"><div class=\"sk-label-container\"><div class=\"sk-label sk-toggleable\"><input class=\"sk-toggleable__control sk-hidden--visually\" id=\"sk-estimator-id-13\" type=\"checkbox\" ><label for=\"sk-estimator-id-13\" class=\"sk-toggleable__label sk-toggleable__label-arrow\">estimator: Pipeline</label><div class=\"sk-toggleable__content\"><pre>Pipeline(steps=[(&#x27;column_transformer&#x27;,\n                 ColumnTransformer(transformers=[(&#x27;pipe_num&#x27;,\n                                                  Pipeline(steps=[(&#x27;imputer&#x27;,\n                                                                   SimpleImputer(strategy=&#x27;median&#x27;)),\n                                                                  (&#x27;power_tr&#x27;,\n                                                                   PowerTransformer()),\n                                                                  (&#x27;scaler&#x27;,\n                                                                   StandardScaler())]),\n                                                  [&#x27;age&#x27;, &#x27;bmi&#x27;, &#x27;HbA1c_level&#x27;,\n                                                   &#x27;blood_glucose_level&#x27;]),\n                                                 (&#x27;pipe_cat&#x27;,\n                                                  Pipeline(steps=[(&#x27;imputer&#x27;,\n                                                                   SimpleImputer(fill_value=&#x27;unknown&#x27;,\n                                                                                 strategy=&#x27;constant&#x27;)...\n                              feature_types=None, gamma=None, gpu_id=None,\n                              grow_policy=None, importance_type=None,\n                              interaction_constraints=None, learning_rate=None,\n                              max_bin=None, max_cat_threshold=None,\n                              max_cat_to_onehot=None, max_delta_step=None,\n                              max_depth=None, max_leaves=None,\n                              min_child_weight=None, missing=nan,\n                              monotone_constraints=None, n_estimators=100,\n                              n_jobs=None, num_parallel_tree=None,\n                              predictor=None, random_state=None, ...))])</pre></div></div></div><div class=\"sk-serial\"><div class=\"sk-item\"><div class=\"sk-serial\"><div class=\"sk-item sk-dashed-wrapped\"><div class=\"sk-label-container\"><div class=\"sk-label sk-toggleable\"><input class=\"sk-toggleable__control sk-hidden--visually\" id=\"sk-estimator-id-14\" type=\"checkbox\" ><label for=\"sk-estimator-id-14\" class=\"sk-toggleable__label sk-toggleable__label-arrow\">column_transformer: ColumnTransformer</label><div class=\"sk-toggleable__content\"><pre>ColumnTransformer(transformers=[(&#x27;pipe_num&#x27;,\n                                 Pipeline(steps=[(&#x27;imputer&#x27;,\n                                                  SimpleImputer(strategy=&#x27;median&#x27;)),\n                                                 (&#x27;power_tr&#x27;,\n                                                  PowerTransformer()),\n                                                 (&#x27;scaler&#x27;, StandardScaler())]),\n                                 [&#x27;age&#x27;, &#x27;bmi&#x27;, &#x27;HbA1c_level&#x27;,\n                                  &#x27;blood_glucose_level&#x27;]),\n                                (&#x27;pipe_cat&#x27;,\n                                 Pipeline(steps=[(&#x27;imputer&#x27;,\n                                                  SimpleImputer(fill_value=&#x27;unknown&#x27;,\n                                                                strategy=&#x27;constant&#x27;)),\n                                                 (&#x27;encoding&#x27;,\n                                                  OneHotEncoder(handle_unknown=&#x27;ignore&#x27;,\n                                                                sparse_output=False))]),\n                                 [&#x27;gender&#x27;, &#x27;hypertension&#x27;, &#x27;heart_disease&#x27;,\n                                  &#x27;smoking_history&#x27;])])</pre></div></div></div><div class=\"sk-parallel\"><div class=\"sk-parallel-item\"><div class=\"sk-item\"><div class=\"sk-label-container\"><div class=\"sk-label sk-toggleable\"><input class=\"sk-toggleable__control sk-hidden--visually\" id=\"sk-estimator-id-15\" type=\"checkbox\" ><label for=\"sk-estimator-id-15\" class=\"sk-toggleable__label sk-toggleable__label-arrow\">pipe_num</label><div class=\"sk-toggleable__content\"><pre>[&#x27;age&#x27;, &#x27;bmi&#x27;, &#x27;HbA1c_level&#x27;, &#x27;blood_glucose_level&#x27;]</pre></div></div></div><div class=\"sk-serial\"><div class=\"sk-item\"><div class=\"sk-serial\"><div class=\"sk-item\"><div class=\"sk-estimator sk-toggleable\"><input class=\"sk-toggleable__control sk-hidden--visually\" id=\"sk-estimator-id-16\" type=\"checkbox\" ><label for=\"sk-estimator-id-16\" class=\"sk-toggleable__label sk-toggleable__label-arrow\">SimpleImputer</label><div class=\"sk-toggleable__content\"><pre>SimpleImputer(strategy=&#x27;median&#x27;)</pre></div></div></div><div class=\"sk-item\"><div class=\"sk-estimator sk-toggleable\"><input class=\"sk-toggleable__control sk-hidden--visually\" id=\"sk-estimator-id-17\" type=\"checkbox\" ><label for=\"sk-estimator-id-17\" class=\"sk-toggleable__label sk-toggleable__label-arrow\">PowerTransformer</label><div class=\"sk-toggleable__content\"><pre>PowerTransformer()</pre></div></div></div><div class=\"sk-item\"><div class=\"sk-estimator sk-toggleable\"><input class=\"sk-toggleable__control sk-hidden--visually\" id=\"sk-estimator-id-18\" type=\"checkbox\" ><label for=\"sk-estimator-id-18\" class=\"sk-toggleable__label sk-toggleable__label-arrow\">StandardScaler</label><div class=\"sk-toggleable__content\"><pre>StandardScaler()</pre></div></div></div></div></div></div></div></div><div class=\"sk-parallel-item\"><div class=\"sk-item\"><div class=\"sk-label-container\"><div class=\"sk-label sk-toggleable\"><input class=\"sk-toggleable__control sk-hidden--visually\" id=\"sk-estimator-id-19\" type=\"checkbox\" ><label for=\"sk-estimator-id-19\" class=\"sk-toggleable__label sk-toggleable__label-arrow\">pipe_cat</label><div class=\"sk-toggleable__content\"><pre>[&#x27;gender&#x27;, &#x27;hypertension&#x27;, &#x27;heart_disease&#x27;, &#x27;smoking_history&#x27;]</pre></div></div></div><div class=\"sk-serial\"><div class=\"sk-item\"><div class=\"sk-serial\"><div class=\"sk-item\"><div class=\"sk-estimator sk-toggleable\"><input class=\"sk-toggleable__control sk-hidden--visually\" id=\"sk-estimator-id-20\" type=\"checkbox\" ><label for=\"sk-estimator-id-20\" class=\"sk-toggleable__label sk-toggleable__label-arrow\">SimpleImputer</label><div class=\"sk-toggleable__content\"><pre>SimpleImputer(fill_value=&#x27;unknown&#x27;, strategy=&#x27;constant&#x27;)</pre></div></div></div><div class=\"sk-item\"><div class=\"sk-estimator sk-toggleable\"><input class=\"sk-toggleable__control sk-hidden--visually\" id=\"sk-estimator-id-21\" type=\"checkbox\" ><label for=\"sk-estimator-id-21\" class=\"sk-toggleable__label sk-toggleable__label-arrow\">OneHotEncoder</label><div class=\"sk-toggleable__content\"><pre>OneHotEncoder(handle_unknown=&#x27;ignore&#x27;, sparse_output=False)</pre></div></div></div></div></div></div></div></div></div></div><div class=\"sk-item\"><div class=\"sk-estimator sk-toggleable\"><input class=\"sk-toggleable__control sk-hidden--visually\" id=\"sk-estimator-id-22\" type=\"checkbox\" ><label for=\"sk-estimator-id-22\" class=\"sk-toggleable__label sk-toggleable__label-arrow\">XGBRegressor</label><div class=\"sk-toggleable__content\"><pre>XGBRegressor(base_score=None, booster=None, callbacks=None,\n             colsample_bylevel=None, colsample_bynode=None,\n             colsample_bytree=None, early_stopping_rounds=None,\n             enable_categorical=False, eval_metric=None, feature_types=None,\n             gamma=None, gpu_id=None, grow_policy=None, importance_type=None,\n             interaction_constraints=None, learning_rate=None, max_bin=None,\n             max_cat_threshold=None, max_cat_to_onehot=None,\n             max_delta_step=None, max_depth=None, max_leaves=None,\n             min_child_weight=None, missing=nan, monotone_constraints=None,\n             n_estimators=100, n_jobs=None, num_parallel_tree=None,\n             predictor=None, random_state=None, ...)</pre></div></div></div></div></div></div></div></div></div></div></div></div>"
     },
     "execution_count": 55,
     "metadata": {},
     "output_type": "execute_result"
    }
   ],
   "source": [
    "random_search = RandomizedSearchCV(pipe, param_distributions=params, n_iter=10, cv=5)\n"
   ],
   "metadata": {
    "collapsed": false,
    "ExecuteTime": {
     "end_time": "2023-12-12T23:02:22.278013Z",
     "start_time": "2023-12-12T23:00:53.265438Z"
    }
   },
   "id": "c71625481ade89fb"
  },
  {
   "cell_type": "code",
   "execution_count": 93,
   "outputs": [],
   "source": [
    "mlflow.set_experiment(\"MLflow_hype_tune_random\")\n",
    "\n",
    "with mlflow.start_run():\n",
    "    random_search.fit(X_train, y_train)\n",
    "    \n",
    "    # log parameters\n",
    "    mlflow.log_params(random_search.best_params_)\n",
    "    "
   ],
   "metadata": {
    "collapsed": false,
    "ExecuteTime": {
     "end_time": "2023-12-13T10:53:40.300632400Z",
     "start_time": "2023-12-13T10:52:16.654843300Z"
    }
   },
   "id": "17ba194dd074a626"
  },
  {
   "cell_type": "code",
   "execution_count": 92,
   "outputs": [],
   "source": [
    "# predict on test data\n",
    "y_pred = np.round(random_search.predict(X_test))\n",
    "\n",
    "# metrics\n",
    "accuracy = accuracy_score(y_test, y_pred)\n",
    "recall = recall_score(y_test, y_pred)\n",
    "f1 = f1_score(y_test, y_pred)\n",
    "\n",
    "# metrics logging in  MLflow\n",
    "with mlflow.start_run():\n",
    "    mlflow.log_params(random_search.best_params_)\n",
    "    mlflow.log_metrics({\n",
    "        'accuracy': accuracy,\n",
    "        'recall': recall,\n",
    "        'f1_score': f1,\n",
    "    })\n",
    "\n",
    "    # Calculate ROC AUC\n",
    "    fpr, tpr, thresholds = roc_curve(y_test, y_pred)\n",
    "    roc_auc = roc_auc_score(y_test, y_pred)\n",
    "    \n",
    "    # Plot ROC curve\n",
    "    plt.figure(figsize=(8, 8))\n",
    "    plt.plot(fpr, tpr, color='darkorange', lw=2, label='ROC curve (area = {:.2f})'.format(roc_auc))\n",
    "    plt.plot([0, 1], [0, 1], color='navy', lw=2, linestyle='--')\n",
    "    plt.xlabel('False Positive Rate')\n",
    "    plt.ylabel('True Positive Rate')\n",
    "    plt.title('Receiver Operating Characteristic (ROC) Curve')\n",
    "    plt.legend(loc='lower right')\n",
    "    \n",
    "    # Save the plot to a local file\n",
    "    roc_auc_plot_path = \"roc_auc_plot.png\"\n",
    "    plt.savefig(roc_auc_plot_path)\n",
    "    plt.close()\n",
    "    \n",
    "    # Log ROC AUC plot as an artifact\n",
    "    mlflow.log_artifact(roc_auc_plot_path, \"roc_auc_plot.png\")\n"
   ],
   "metadata": {
    "collapsed": false,
    "ExecuteTime": {
     "end_time": "2023-12-13T10:39:57.742653100Z",
     "start_time": "2023-12-13T10:39:57.046656700Z"
    }
   },
   "id": "b5c22fb11d7968b9"
  },
  {
   "cell_type": "markdown",
   "source": [
    "### Greed search"
   ],
   "metadata": {
    "collapsed": false
   },
   "id": "a468301b358c187d"
  },
  {
   "cell_type": "code",
   "execution_count": 98,
   "outputs": [],
   "source": [
    "grid_search = GridSearchCV(pipe,  param_grid=params, cv=5,n_jobs=-1)\n"
   ],
   "metadata": {
    "collapsed": false,
    "ExecuteTime": {
     "end_time": "2023-12-13T11:01:54.993165200Z",
     "start_time": "2023-12-13T11:01:54.978166Z"
    }
   },
   "id": "bd999bff3e4640ad"
  },
  {
   "cell_type": "code",
   "execution_count": 99,
   "outputs": [
    {
     "ename": "KeyboardInterrupt",
     "evalue": "",
     "output_type": "error",
     "traceback": [
      "\u001B[1;31m---------------------------------------------------------------------------\u001B[0m",
      "\u001B[1;31mKeyboardInterrupt\u001B[0m                         Traceback (most recent call last)",
      "Cell \u001B[1;32mIn[99], line 4\u001B[0m\n\u001B[0;32m      1\u001B[0m mlflow\u001B[38;5;241m.\u001B[39mset_experiment(\u001B[38;5;124m\"\u001B[39m\u001B[38;5;124mMLflow_hype_tune_greed\u001B[39m\u001B[38;5;124m\"\u001B[39m)\n\u001B[0;32m      3\u001B[0m \u001B[38;5;28;01mwith\u001B[39;00m mlflow\u001B[38;5;241m.\u001B[39mstart_run():\n\u001B[1;32m----> 4\u001B[0m     \u001B[43mgrid_search\u001B[49m\u001B[38;5;241;43m.\u001B[39;49m\u001B[43mfit\u001B[49m\u001B[43m(\u001B[49m\u001B[43mX_train\u001B[49m\u001B[43m,\u001B[49m\u001B[43m \u001B[49m\u001B[43my_train\u001B[49m\u001B[43m)\u001B[49m\n\u001B[0;32m      6\u001B[0m     \u001B[38;5;66;03m# log parameters\u001B[39;00m\n\u001B[0;32m      7\u001B[0m     mlflow\u001B[38;5;241m.\u001B[39mlog_params(grid_search\u001B[38;5;241m.\u001B[39mbest_params_)\n",
      "File \u001B[1;32mC:\\ProgramData\\anaconda3\\envs\\kanagawa\\lib\\site-packages\\sklearn\\base.py:1152\u001B[0m, in \u001B[0;36m_fit_context.<locals>.decorator.<locals>.wrapper\u001B[1;34m(estimator, *args, **kwargs)\u001B[0m\n\u001B[0;32m   1145\u001B[0m     estimator\u001B[38;5;241m.\u001B[39m_validate_params()\n\u001B[0;32m   1147\u001B[0m \u001B[38;5;28;01mwith\u001B[39;00m config_context(\n\u001B[0;32m   1148\u001B[0m     skip_parameter_validation\u001B[38;5;241m=\u001B[39m(\n\u001B[0;32m   1149\u001B[0m         prefer_skip_nested_validation \u001B[38;5;129;01mor\u001B[39;00m global_skip_validation\n\u001B[0;32m   1150\u001B[0m     )\n\u001B[0;32m   1151\u001B[0m ):\n\u001B[1;32m-> 1152\u001B[0m     \u001B[38;5;28;01mreturn\u001B[39;00m fit_method(estimator, \u001B[38;5;241m*\u001B[39margs, \u001B[38;5;241m*\u001B[39m\u001B[38;5;241m*\u001B[39mkwargs)\n",
      "File \u001B[1;32mC:\\ProgramData\\anaconda3\\envs\\kanagawa\\lib\\site-packages\\sklearn\\model_selection\\_search.py:898\u001B[0m, in \u001B[0;36mBaseSearchCV.fit\u001B[1;34m(self, X, y, groups, **fit_params)\u001B[0m\n\u001B[0;32m    892\u001B[0m     results \u001B[38;5;241m=\u001B[39m \u001B[38;5;28mself\u001B[39m\u001B[38;5;241m.\u001B[39m_format_results(\n\u001B[0;32m    893\u001B[0m         all_candidate_params, n_splits, all_out, all_more_results\n\u001B[0;32m    894\u001B[0m     )\n\u001B[0;32m    896\u001B[0m     \u001B[38;5;28;01mreturn\u001B[39;00m results\n\u001B[1;32m--> 898\u001B[0m \u001B[38;5;28;43mself\u001B[39;49m\u001B[38;5;241;43m.\u001B[39;49m\u001B[43m_run_search\u001B[49m\u001B[43m(\u001B[49m\u001B[43mevaluate_candidates\u001B[49m\u001B[43m)\u001B[49m\n\u001B[0;32m    900\u001B[0m \u001B[38;5;66;03m# multimetric is determined here because in the case of a callable\u001B[39;00m\n\u001B[0;32m    901\u001B[0m \u001B[38;5;66;03m# self.scoring the return type is only known after calling\u001B[39;00m\n\u001B[0;32m    902\u001B[0m first_test_score \u001B[38;5;241m=\u001B[39m all_out[\u001B[38;5;241m0\u001B[39m][\u001B[38;5;124m\"\u001B[39m\u001B[38;5;124mtest_scores\u001B[39m\u001B[38;5;124m\"\u001B[39m]\n",
      "File \u001B[1;32mC:\\ProgramData\\anaconda3\\envs\\kanagawa\\lib\\site-packages\\sklearn\\model_selection\\_search.py:1422\u001B[0m, in \u001B[0;36mGridSearchCV._run_search\u001B[1;34m(self, evaluate_candidates)\u001B[0m\n\u001B[0;32m   1420\u001B[0m \u001B[38;5;28;01mdef\u001B[39;00m \u001B[38;5;21m_run_search\u001B[39m(\u001B[38;5;28mself\u001B[39m, evaluate_candidates):\n\u001B[0;32m   1421\u001B[0m \u001B[38;5;250m    \u001B[39m\u001B[38;5;124;03m\"\"\"Search all candidates in param_grid\"\"\"\u001B[39;00m\n\u001B[1;32m-> 1422\u001B[0m     \u001B[43mevaluate_candidates\u001B[49m\u001B[43m(\u001B[49m\u001B[43mParameterGrid\u001B[49m\u001B[43m(\u001B[49m\u001B[38;5;28;43mself\u001B[39;49m\u001B[38;5;241;43m.\u001B[39;49m\u001B[43mparam_grid\u001B[49m\u001B[43m)\u001B[49m\u001B[43m)\u001B[49m\n",
      "File \u001B[1;32mC:\\ProgramData\\anaconda3\\envs\\kanagawa\\lib\\site-packages\\sklearn\\model_selection\\_search.py:845\u001B[0m, in \u001B[0;36mBaseSearchCV.fit.<locals>.evaluate_candidates\u001B[1;34m(candidate_params, cv, more_results)\u001B[0m\n\u001B[0;32m    837\u001B[0m \u001B[38;5;28;01mif\u001B[39;00m \u001B[38;5;28mself\u001B[39m\u001B[38;5;241m.\u001B[39mverbose \u001B[38;5;241m>\u001B[39m \u001B[38;5;241m0\u001B[39m:\n\u001B[0;32m    838\u001B[0m     \u001B[38;5;28mprint\u001B[39m(\n\u001B[0;32m    839\u001B[0m         \u001B[38;5;124m\"\u001B[39m\u001B[38;5;124mFitting \u001B[39m\u001B[38;5;132;01m{0}\u001B[39;00m\u001B[38;5;124m folds for each of \u001B[39m\u001B[38;5;132;01m{1}\u001B[39;00m\u001B[38;5;124m candidates,\u001B[39m\u001B[38;5;124m\"\u001B[39m\n\u001B[0;32m    840\u001B[0m         \u001B[38;5;124m\"\u001B[39m\u001B[38;5;124m totalling \u001B[39m\u001B[38;5;132;01m{2}\u001B[39;00m\u001B[38;5;124m fits\u001B[39m\u001B[38;5;124m\"\u001B[39m\u001B[38;5;241m.\u001B[39mformat(\n\u001B[0;32m    841\u001B[0m             n_splits, n_candidates, n_candidates \u001B[38;5;241m*\u001B[39m n_splits\n\u001B[0;32m    842\u001B[0m         )\n\u001B[0;32m    843\u001B[0m     )\n\u001B[1;32m--> 845\u001B[0m out \u001B[38;5;241m=\u001B[39m \u001B[43mparallel\u001B[49m\u001B[43m(\u001B[49m\n\u001B[0;32m    846\u001B[0m \u001B[43m    \u001B[49m\u001B[43mdelayed\u001B[49m\u001B[43m(\u001B[49m\u001B[43m_fit_and_score\u001B[49m\u001B[43m)\u001B[49m\u001B[43m(\u001B[49m\n\u001B[0;32m    847\u001B[0m \u001B[43m        \u001B[49m\u001B[43mclone\u001B[49m\u001B[43m(\u001B[49m\u001B[43mbase_estimator\u001B[49m\u001B[43m)\u001B[49m\u001B[43m,\u001B[49m\n\u001B[0;32m    848\u001B[0m \u001B[43m        \u001B[49m\u001B[43mX\u001B[49m\u001B[43m,\u001B[49m\n\u001B[0;32m    849\u001B[0m \u001B[43m        \u001B[49m\u001B[43my\u001B[49m\u001B[43m,\u001B[49m\n\u001B[0;32m    850\u001B[0m \u001B[43m        \u001B[49m\u001B[43mtrain\u001B[49m\u001B[38;5;241;43m=\u001B[39;49m\u001B[43mtrain\u001B[49m\u001B[43m,\u001B[49m\n\u001B[0;32m    851\u001B[0m \u001B[43m        \u001B[49m\u001B[43mtest\u001B[49m\u001B[38;5;241;43m=\u001B[39;49m\u001B[43mtest\u001B[49m\u001B[43m,\u001B[49m\n\u001B[0;32m    852\u001B[0m \u001B[43m        \u001B[49m\u001B[43mparameters\u001B[49m\u001B[38;5;241;43m=\u001B[39;49m\u001B[43mparameters\u001B[49m\u001B[43m,\u001B[49m\n\u001B[0;32m    853\u001B[0m \u001B[43m        \u001B[49m\u001B[43msplit_progress\u001B[49m\u001B[38;5;241;43m=\u001B[39;49m\u001B[43m(\u001B[49m\u001B[43msplit_idx\u001B[49m\u001B[43m,\u001B[49m\u001B[43m \u001B[49m\u001B[43mn_splits\u001B[49m\u001B[43m)\u001B[49m\u001B[43m,\u001B[49m\n\u001B[0;32m    854\u001B[0m \u001B[43m        \u001B[49m\u001B[43mcandidate_progress\u001B[49m\u001B[38;5;241;43m=\u001B[39;49m\u001B[43m(\u001B[49m\u001B[43mcand_idx\u001B[49m\u001B[43m,\u001B[49m\u001B[43m \u001B[49m\u001B[43mn_candidates\u001B[49m\u001B[43m)\u001B[49m\u001B[43m,\u001B[49m\n\u001B[0;32m    855\u001B[0m \u001B[43m        \u001B[49m\u001B[38;5;241;43m*\u001B[39;49m\u001B[38;5;241;43m*\u001B[39;49m\u001B[43mfit_and_score_kwargs\u001B[49m\u001B[43m,\u001B[49m\n\u001B[0;32m    856\u001B[0m \u001B[43m    \u001B[49m\u001B[43m)\u001B[49m\n\u001B[0;32m    857\u001B[0m \u001B[43m    \u001B[49m\u001B[38;5;28;43;01mfor\u001B[39;49;00m\u001B[43m \u001B[49m\u001B[43m(\u001B[49m\u001B[43mcand_idx\u001B[49m\u001B[43m,\u001B[49m\u001B[43m \u001B[49m\u001B[43mparameters\u001B[49m\u001B[43m)\u001B[49m\u001B[43m,\u001B[49m\u001B[43m \u001B[49m\u001B[43m(\u001B[49m\u001B[43msplit_idx\u001B[49m\u001B[43m,\u001B[49m\u001B[43m \u001B[49m\u001B[43m(\u001B[49m\u001B[43mtrain\u001B[49m\u001B[43m,\u001B[49m\u001B[43m \u001B[49m\u001B[43mtest\u001B[49m\u001B[43m)\u001B[49m\u001B[43m)\u001B[49m\u001B[43m \u001B[49m\u001B[38;5;129;43;01min\u001B[39;49;00m\u001B[43m \u001B[49m\u001B[43mproduct\u001B[49m\u001B[43m(\u001B[49m\n\u001B[0;32m    858\u001B[0m \u001B[43m        \u001B[49m\u001B[38;5;28;43menumerate\u001B[39;49m\u001B[43m(\u001B[49m\u001B[43mcandidate_params\u001B[49m\u001B[43m)\u001B[49m\u001B[43m,\u001B[49m\u001B[43m \u001B[49m\u001B[38;5;28;43menumerate\u001B[39;49m\u001B[43m(\u001B[49m\u001B[43mcv\u001B[49m\u001B[38;5;241;43m.\u001B[39;49m\u001B[43msplit\u001B[49m\u001B[43m(\u001B[49m\u001B[43mX\u001B[49m\u001B[43m,\u001B[49m\u001B[43m \u001B[49m\u001B[43my\u001B[49m\u001B[43m,\u001B[49m\u001B[43m \u001B[49m\u001B[43mgroups\u001B[49m\u001B[43m)\u001B[49m\u001B[43m)\u001B[49m\n\u001B[0;32m    859\u001B[0m \u001B[43m    \u001B[49m\u001B[43m)\u001B[49m\n\u001B[0;32m    860\u001B[0m \u001B[43m\u001B[49m\u001B[43m)\u001B[49m\n\u001B[0;32m    862\u001B[0m \u001B[38;5;28;01mif\u001B[39;00m \u001B[38;5;28mlen\u001B[39m(out) \u001B[38;5;241m<\u001B[39m \u001B[38;5;241m1\u001B[39m:\n\u001B[0;32m    863\u001B[0m     \u001B[38;5;28;01mraise\u001B[39;00m \u001B[38;5;167;01mValueError\u001B[39;00m(\n\u001B[0;32m    864\u001B[0m         \u001B[38;5;124m\"\u001B[39m\u001B[38;5;124mNo fits were performed. \u001B[39m\u001B[38;5;124m\"\u001B[39m\n\u001B[0;32m    865\u001B[0m         \u001B[38;5;124m\"\u001B[39m\u001B[38;5;124mWas the CV iterator empty? \u001B[39m\u001B[38;5;124m\"\u001B[39m\n\u001B[0;32m    866\u001B[0m         \u001B[38;5;124m\"\u001B[39m\u001B[38;5;124mWere there no candidates?\u001B[39m\u001B[38;5;124m\"\u001B[39m\n\u001B[0;32m    867\u001B[0m     )\n",
      "File \u001B[1;32mC:\\ProgramData\\anaconda3\\envs\\kanagawa\\lib\\site-packages\\sklearn\\utils\\parallel.py:65\u001B[0m, in \u001B[0;36mParallel.__call__\u001B[1;34m(self, iterable)\u001B[0m\n\u001B[0;32m     60\u001B[0m config \u001B[38;5;241m=\u001B[39m get_config()\n\u001B[0;32m     61\u001B[0m iterable_with_config \u001B[38;5;241m=\u001B[39m (\n\u001B[0;32m     62\u001B[0m     (_with_config(delayed_func, config), args, kwargs)\n\u001B[0;32m     63\u001B[0m     \u001B[38;5;28;01mfor\u001B[39;00m delayed_func, args, kwargs \u001B[38;5;129;01min\u001B[39;00m iterable\n\u001B[0;32m     64\u001B[0m )\n\u001B[1;32m---> 65\u001B[0m \u001B[38;5;28;01mreturn\u001B[39;00m \u001B[38;5;28;43msuper\u001B[39;49m\u001B[43m(\u001B[49m\u001B[43m)\u001B[49m\u001B[38;5;241;43m.\u001B[39;49m\u001B[38;5;21;43m__call__\u001B[39;49m\u001B[43m(\u001B[49m\u001B[43miterable_with_config\u001B[49m\u001B[43m)\u001B[49m\n",
      "File \u001B[1;32mC:\\ProgramData\\anaconda3\\envs\\kanagawa\\lib\\site-packages\\joblib\\parallel.py:1952\u001B[0m, in \u001B[0;36mParallel.__call__\u001B[1;34m(self, iterable)\u001B[0m\n\u001B[0;32m   1946\u001B[0m \u001B[38;5;66;03m# The first item from the output is blank, but it makes the interpreter\u001B[39;00m\n\u001B[0;32m   1947\u001B[0m \u001B[38;5;66;03m# progress until it enters the Try/Except block of the generator and\u001B[39;00m\n\u001B[0;32m   1948\u001B[0m \u001B[38;5;66;03m# reach the first `yield` statement. This starts the aynchronous\u001B[39;00m\n\u001B[0;32m   1949\u001B[0m \u001B[38;5;66;03m# dispatch of the tasks to the workers.\u001B[39;00m\n\u001B[0;32m   1950\u001B[0m \u001B[38;5;28mnext\u001B[39m(output)\n\u001B[1;32m-> 1952\u001B[0m \u001B[38;5;28;01mreturn\u001B[39;00m output \u001B[38;5;28;01mif\u001B[39;00m \u001B[38;5;28mself\u001B[39m\u001B[38;5;241m.\u001B[39mreturn_generator \u001B[38;5;28;01melse\u001B[39;00m \u001B[38;5;28;43mlist\u001B[39;49m\u001B[43m(\u001B[49m\u001B[43moutput\u001B[49m\u001B[43m)\u001B[49m\n",
      "File \u001B[1;32mC:\\ProgramData\\anaconda3\\envs\\kanagawa\\lib\\site-packages\\joblib\\parallel.py:1595\u001B[0m, in \u001B[0;36mParallel._get_outputs\u001B[1;34m(self, iterator, pre_dispatch)\u001B[0m\n\u001B[0;32m   1592\u001B[0m     \u001B[38;5;28;01myield\u001B[39;00m\n\u001B[0;32m   1594\u001B[0m     \u001B[38;5;28;01mwith\u001B[39;00m \u001B[38;5;28mself\u001B[39m\u001B[38;5;241m.\u001B[39m_backend\u001B[38;5;241m.\u001B[39mretrieval_context():\n\u001B[1;32m-> 1595\u001B[0m         \u001B[38;5;28;01myield from\u001B[39;00m \u001B[38;5;28mself\u001B[39m\u001B[38;5;241m.\u001B[39m_retrieve()\n\u001B[0;32m   1597\u001B[0m \u001B[38;5;28;01mexcept\u001B[39;00m \u001B[38;5;167;01mGeneratorExit\u001B[39;00m:\n\u001B[0;32m   1598\u001B[0m     \u001B[38;5;66;03m# The generator has been garbage collected before being fully\u001B[39;00m\n\u001B[0;32m   1599\u001B[0m     \u001B[38;5;66;03m# consumed. This aborts the remaining tasks if possible and warn\u001B[39;00m\n\u001B[0;32m   1600\u001B[0m     \u001B[38;5;66;03m# the user if necessary.\u001B[39;00m\n\u001B[0;32m   1601\u001B[0m     \u001B[38;5;28mself\u001B[39m\u001B[38;5;241m.\u001B[39m_exception \u001B[38;5;241m=\u001B[39m \u001B[38;5;28;01mTrue\u001B[39;00m\n",
      "File \u001B[1;32mC:\\ProgramData\\anaconda3\\envs\\kanagawa\\lib\\site-packages\\joblib\\parallel.py:1707\u001B[0m, in \u001B[0;36mParallel._retrieve\u001B[1;34m(self)\u001B[0m\n\u001B[0;32m   1702\u001B[0m \u001B[38;5;66;03m# If the next job is not ready for retrieval yet, we just wait for\u001B[39;00m\n\u001B[0;32m   1703\u001B[0m \u001B[38;5;66;03m# async callbacks to progress.\u001B[39;00m\n\u001B[0;32m   1704\u001B[0m \u001B[38;5;28;01mif\u001B[39;00m ((\u001B[38;5;28mlen\u001B[39m(\u001B[38;5;28mself\u001B[39m\u001B[38;5;241m.\u001B[39m_jobs) \u001B[38;5;241m==\u001B[39m \u001B[38;5;241m0\u001B[39m) \u001B[38;5;129;01mor\u001B[39;00m\n\u001B[0;32m   1705\u001B[0m     (\u001B[38;5;28mself\u001B[39m\u001B[38;5;241m.\u001B[39m_jobs[\u001B[38;5;241m0\u001B[39m]\u001B[38;5;241m.\u001B[39mget_status(\n\u001B[0;32m   1706\u001B[0m         timeout\u001B[38;5;241m=\u001B[39m\u001B[38;5;28mself\u001B[39m\u001B[38;5;241m.\u001B[39mtimeout) \u001B[38;5;241m==\u001B[39m TASK_PENDING)):\n\u001B[1;32m-> 1707\u001B[0m     \u001B[43mtime\u001B[49m\u001B[38;5;241;43m.\u001B[39;49m\u001B[43msleep\u001B[49m\u001B[43m(\u001B[49m\u001B[38;5;241;43m0.01\u001B[39;49m\u001B[43m)\u001B[49m\n\u001B[0;32m   1708\u001B[0m     \u001B[38;5;28;01mcontinue\u001B[39;00m\n\u001B[0;32m   1710\u001B[0m \u001B[38;5;66;03m# We need to be careful: the job list can be filling up as\u001B[39;00m\n\u001B[0;32m   1711\u001B[0m \u001B[38;5;66;03m# we empty it and Python list are not thread-safe by\u001B[39;00m\n\u001B[0;32m   1712\u001B[0m \u001B[38;5;66;03m# default hence the use of the lock\u001B[39;00m\n",
      "\u001B[1;31mKeyboardInterrupt\u001B[0m: "
     ]
    }
   ],
   "source": [
    "mlflow.set_experiment(\"MLflow_hype_tune_greed\")\n",
    "\n",
    "with mlflow.start_run():\n",
    "    grid_search.fit(X_train, y_train)\n",
    "\n",
    "    # log parameters\n",
    "    mlflow.log_params(grid_search.best_params_)"
   ],
   "metadata": {
    "collapsed": false,
    "ExecuteTime": {
     "end_time": "2023-12-13T13:45:37.870282600Z",
     "start_time": "2023-12-13T11:01:55.642166500Z"
    }
   },
   "id": "b27735339571ee98"
  },
  {
   "cell_type": "code",
   "execution_count": null,
   "outputs": [],
   "source": [
    "# predict on test data\n",
    "y_pred = np.round(grid_search.predict(X_test))\n",
    "\n",
    "# metrics\n",
    "accuracy = accuracy_score(y_test, y_pred)\n",
    "recall = recall_score(y_test, y_pred)\n",
    "f1 = f1_score(y_test, y_pred)\n",
    "\n",
    "# metrics logging in  MLflow\n",
    "with mlflow.start_run():\n",
    "    mlflow.log_params(grid_search.best_params_)\n",
    "    mlflow.log_metrics({\n",
    "        'accuracy': accuracy,\n",
    "        'recall': recall,\n",
    "        'f1_score': f1,\n",
    "    })\n",
    "\n",
    "    # Calculate ROC AUC\n",
    "    fpr, tpr, thresholds = roc_curve(y_test, y_pred)\n",
    "    roc_auc = roc_auc_score(y_test, y_pred)\n",
    "\n",
    "    # Plot ROC curve\n",
    "    plt.figure(figsize=(8, 8))\n",
    "    plt.plot(fpr, tpr, color='darkorange', lw=2, label='ROC curve (area = {:.2f})'.format(roc_auc))\n",
    "    plt.plot([0, 1], [0, 1], color='navy', lw=2, linestyle='--')\n",
    "    plt.xlabel('False Positive Rate')\n",
    "    plt.ylabel('True Positive Rate')\n",
    "    plt.title('Receiver Operating Characteristic (ROC) Curve')\n",
    "    plt.legend(loc='lower right')\n",
    "\n",
    "    # Save the plot to a local file\n",
    "    roc_auc_plot_path = \"roc_auc_plot.png\"\n",
    "    plt.savefig(roc_auc_plot_path)\n",
    "    plt.close()\n",
    "\n",
    "    # Log ROC AUC plot as an artifact\n",
    "    mlflow.log_artifact(roc_auc_plot_path, \"roc_auc_plot.png\")\n"
   ],
   "metadata": {
    "collapsed": false,
    "ExecuteTime": {
     "end_time": "2023-12-13T13:45:37.879283200Z",
     "start_time": "2023-12-13T13:45:37.878281600Z"
    }
   },
   "id": "97c7beae4a4bbf40"
  },
  {
   "cell_type": "code",
   "execution_count": null,
   "outputs": [],
   "source": [],
   "metadata": {
    "collapsed": false
   },
   "id": "dfdd77a3ec8a038c"
  },
  {
   "cell_type": "code",
   "execution_count": 107,
   "outputs": [
    {
     "name": "stderr",
     "output_type": "stream",
     "text": [
      "[I 2023-12-13 17:10:24,430] A new study created in memory with name: no-name-615fbbdc-dc33-4753-8f40-66dff8ba4d96\n",
      "[I 2023-12-13 17:10:43,170] Trial 0 finished with value: 0.6829424615654875 and parameters: {'model__eta': 0.1090452467246519, 'model__gamma': 0.9718882266575057, 'model__max_depth': 10, 'model__min_child_weight': 9.747937916982503, 'model__max_delta_step': 5.053623153802227, 'model__subsample': 0.3248768070036051, 'model__colsample_bytree': 0.9919993482494618, 'model__colsample_bylevel': 0.8782672450395115, 'model__colsample_bynode': 0.971866385068287, 'model__lambda': 3.1679041191249273, 'model__alpha': 4.171116550082166, 'model__scale_pos_weight': 1.9701139851228602, 'model__max_leaves': 48}. Best is trial 0 with value: 0.6829424615654875.\n",
      "[I 2023-12-13 17:10:53,123] Trial 1 finished with value: 0.527689086752555 and parameters: {'model__eta': 0.12180338584351277, 'model__gamma': 3.00961488654296, 'model__max_depth': 3, 'model__min_child_weight': 5.394057508164929, 'model__max_delta_step': 3.535485299609472, 'model__subsample': 0.4272898298252983, 'model__colsample_bytree': 0.8872352697080279, 'model__colsample_bylevel': 0.675465849192437, 'model__colsample_bynode': 0.6098654847728714, 'model__lambda': 2.7011826324566295, 'model__alpha': 4.2687942190634525, 'model__scale_pos_weight': 4.82041526804446, 'model__max_leaves': 79}. Best is trial 1 with value: 0.527689086752555.\n",
      "[I 2023-12-13 17:11:07,172] Trial 2 finished with value: 0.49717765162148736 and parameters: {'model__eta': 0.05320517052769201, 'model__gamma': 0.24616381937125453, 'model__max_depth': 8, 'model__min_child_weight': 3.759419443241073, 'model__max_delta_step': 5.233519038896742, 'model__subsample': 0.8879256698368517, 'model__colsample_bytree': 0.7977038762346699, 'model__colsample_bylevel': 0.9945551296940849, 'model__colsample_bynode': 0.7703474408747606, 'model__lambda': 3.3097118987141343, 'model__alpha': 0.11652909517046894, 'model__scale_pos_weight': 6.043534418833162, 'model__max_leaves': 47}. Best is trial 2 with value: 0.49717765162148736.\n"
     ]
    }
   ],
   "source": [
    "# Функция для оптимизации с помощью Optuna\n",
    "def objective(trial):\n",
    "\n",
    "    # Параметры для оптимизации\n",
    "    params = {\n",
    "        'model__eta': trial.suggest_float('model__eta', 0.01, 0.2),\n",
    "        'model__gamma': trial.suggest_float('model__gamma', 0, 5),\n",
    "        'model__max_depth': trial.suggest_int('model__max_depth', 3, 10),\n",
    "        'model__min_child_weight': trial.suggest_float('model__min_child_weight', 1, 10),\n",
    "        'model__max_delta_step': trial.suggest_float('model__max_delta_step', 0, 10),\n",
    "        'model__subsample': trial.suggest_float('model__subsample', 0.1,1),\n",
    "        'model__colsample_bytree': trial.suggest_float('model__colsample_bytree', 0.5, 1),\n",
    "        'model__colsample_bylevel': trial.suggest_float('model__colsample_bylevel', 0.5, 1),\n",
    "        'model__colsample_bynode': trial.suggest_float('model__colsample_bynode', 0.5, 1),\n",
    "        'model__lambda': trial.suggest_float('model__lambda', 0, 5),\n",
    "        'model__alpha': trial.suggest_float('model__alpha', 0, 5),\n",
    "        'model__scale_pos_weight': trial.suggest_float('model__scale_pos_weight', 1, 10),\n",
    "        'model__max_leaves': trial.suggest_int('model__max_leaves', 0, 100),\n",
    "        #  'model__reg_alpha': trial.suggest_float('model__reg_alpha', 1e-5, 1e2),\n",
    "        # 'model__reg_lambda': trial.suggest_float('model__reg_lambda', 1e-5, 1e2)\n",
    "    }\n",
    "\n",
    "    pipe.set_params(**params)\n",
    "\n",
    "    # Обучение модели\n",
    "    cross_val_mse = cross_val_score(pipe,X_train, y_train).mean()\n",
    "    # pipe.fit(X_train, y_train)\n",
    "\n",
    "    return cross_val_mse\n",
    "\n",
    "\n",
    "\n",
    "mlflow.set_experiment(\"MLflow_hype_optuna\")\n",
    "\n",
    "with mlflow.start_run():\n",
    "    study = optuna.create_study(direction='minimize')\n",
    "    study.optimize(objective, n_trials=3)  # Указать желаемое количество итераций\n",
    "\n",
    "    # Get the best trial and its parameters\n",
    "    best_trial = study.best_trial\n",
    "    best_params = best_trial.params\n",
    "\n",
    "    # Log parameters\n",
    "    mlflow.log_params(best_params)\n"
   ],
   "metadata": {
    "collapsed": false,
    "ExecuteTime": {
     "end_time": "2023-12-13T14:11:07.237479800Z",
     "start_time": "2023-12-13T14:10:24.346298200Z"
    }
   },
   "id": "672484f4ee0c3fc4"
  },
  {
   "cell_type": "code",
   "execution_count": 112,
   "outputs": [],
   "source": [
    "# Get the best trial and its parameters\n",
    "best_trial = study.best_trial\n",
    "best_params = best_trial.params\n",
    "\n",
    "# Remove the \"model__\" prefix from parameter names\n",
    "cleaned_params = {key.replace(\"model__\", \"\"): value for key, value in best_params.items()}\n",
    "\n",
    "# Set the best parameters to your model\n",
    "pipe.set_params(**best_params)\n",
    "\n",
    "# Train the model with the best parameters on the entire training set\n",
    "pipe.fit(X_train, y_train)\n",
    "\n",
    "# Make predictions on the test set\n",
    "y_pred = np.round(pipe.predict(X_test))\n",
    "\n",
    "# metrics\n",
    "accuracy = accuracy_score(y_test, y_pred)\n",
    "recall = recall_score(y_test, y_pred)\n",
    "f1 = f1_score(y_test, y_pred)\n",
    "\n",
    "# metrics logging in MLflow\n",
    "with mlflow.start_run():\n",
    "    # Log cleaned parameters\n",
    "    mlflow.log_params(cleaned_params)\n",
    "\n",
    "    # Log metrics\n",
    "    mlflow.log_metrics({\n",
    "        'accuracy': accuracy,\n",
    "        'recall': recall,\n",
    "        'f1_score': f1,\n",
    "    })\n",
    "\n",
    "    # Calculate ROC AUC\n",
    "    fpr, tpr, thresholds = roc_curve(y_test, y_pred)\n",
    "    roc_auc = roc_auc_score(y_test, y_pred)\n",
    "\n",
    "    # Plot ROC curve\n",
    "    plt.figure(figsize=(8, 8))\n",
    "    plt.plot(fpr, tpr, color='darkorange', lw=2, label='ROC curve (area = {:.2f})'.format(roc_auc))\n",
    "    plt.plot([0, 1], [0, 1], color='navy', lw=2, linestyle='--')\n",
    "    plt.xlabel('False Positive Rate')\n",
    "    plt.ylabel('True Positive Rate')\n",
    "    plt.title('Receiver Operating Characteristic (ROC) Curve')\n",
    "    plt.legend(loc='lower right')\n",
    "\n",
    "    # Save the plot to a local file\n",
    "    roc_auc_plot_path = \"roc_auc_plot.png\"\n",
    "    plt.savefig(roc_auc_plot_path)\n",
    "    plt.close()\n",
    "\n",
    "    # Log ROC AUC plot as an artifact\n",
    "    mlflow.log_artifact(roc_auc_plot_path, \"roc_auc_plot.png\")\n"
   ],
   "metadata": {
    "collapsed": false,
    "ExecuteTime": {
     "end_time": "2023-12-13T14:16:48.089939400Z",
     "start_time": "2023-12-13T14:16:43.651641500Z"
    }
   },
   "id": "53219fd8225fc1c3"
  }
 ],
 "metadata": {
  "kernelspec": {
   "display_name": "Python 3",
   "language": "python",
   "name": "python3"
  },
  "language_info": {
   "codemirror_mode": {
    "name": "ipython",
    "version": 2
   },
   "file_extension": ".py",
   "mimetype": "text/x-python",
   "name": "python",
   "nbconvert_exporter": "python",
   "pygments_lexer": "ipython2",
   "version": "2.7.6"
  }
 },
 "nbformat": 4,
 "nbformat_minor": 5
}
