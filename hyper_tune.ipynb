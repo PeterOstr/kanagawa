{
 "cells": [
  {
   "cell_type": "code",
   "execution_count": 5,
   "id": "initial_id",
   "metadata": {
    "collapsed": true,
    "ExecuteTime": {
     "end_time": "2023-12-12T13:59:12.950047400Z",
     "start_time": "2023-12-12T13:59:12.312053Z"
    }
   },
   "outputs": [],
   "source": [
    "import pandas as pd"
   ]
  },
  {
   "cell_type": "markdown",
   "source": [
    "### 1. Abstract\n",
    "In this notebook we will consider 3 ways of hyperparameters optimization:\n",
    "\n",
    "- by Grid Search\n",
    "- by Random Search\n",
    "- by Optuna optimization module"
   ],
   "metadata": {
    "collapsed": false
   },
   "id": "20b0c961035d0dc5"
  },
  {
   "cell_type": "markdown",
   "source": [
    "For testing purposes we will use the Diabetes prediction dataset from Kaggle (https://www.kaggle.com/datasets/iammustafatz/diabetes-prediction-dataset).\n",
    "\n",
    "About the Dataset\n",
    "\n",
    "The diabetes_prediction_dataset.csv file contains medical and demographic data of patients along with their diabetes status, whether positive or negative. It consists of various features such as age, gender, body mass index (BMI), hypertension, heart disease, smoking history, HbA1c level, and blood glucose level. The Dataset can be utilized to construct machine learning models that can predict the likelihood of diabetes in patients based on their medical history and demographic details."
   ],
   "metadata": {
    "collapsed": false
   },
   "id": "2a3487e4e3a393d6"
  },
  {
   "cell_type": "code",
   "execution_count": 6,
   "outputs": [],
   "source": [
    "data = pd.read_csv('diabetes_prediction_dataset.csv')"
   ],
   "metadata": {
    "collapsed": false,
    "ExecuteTime": {
     "end_time": "2023-12-12T13:59:15.748856600Z",
     "start_time": "2023-12-12T13:59:15.621684200Z"
    }
   },
   "id": "2cf305ee855f7af0"
  },
  {
   "cell_type": "code",
   "execution_count": 7,
   "outputs": [
    {
     "data": {
      "text/plain": "       gender   age  hypertension  heart_disease smoking_history    bmi  \\\n0      Female  80.0             0              1           never  25.19   \n1      Female  54.0             0              0         No Info  27.32   \n2        Male  28.0             0              0           never  27.32   \n3      Female  36.0             0              0         current  23.45   \n4        Male  76.0             1              1         current  20.14   \n...       ...   ...           ...            ...             ...    ...   \n99995  Female  80.0             0              0         No Info  27.32   \n99996  Female   2.0             0              0         No Info  17.37   \n99997    Male  66.0             0              0          former  27.83   \n99998  Female  24.0             0              0           never  35.42   \n99999  Female  57.0             0              0         current  22.43   \n\n       HbA1c_level  blood_glucose_level  diabetes  \n0              6.6                  140         0  \n1              6.6                   80         0  \n2              5.7                  158         0  \n3              5.0                  155         0  \n4              4.8                  155         0  \n...            ...                  ...       ...  \n99995          6.2                   90         0  \n99996          6.5                  100         0  \n99997          5.7                  155         0  \n99998          4.0                  100         0  \n99999          6.6                   90         0  \n\n[100000 rows x 9 columns]",
      "text/html": "<div>\n<style scoped>\n    .dataframe tbody tr th:only-of-type {\n        vertical-align: middle;\n    }\n\n    .dataframe tbody tr th {\n        vertical-align: top;\n    }\n\n    .dataframe thead th {\n        text-align: right;\n    }\n</style>\n<table border=\"1\" class=\"dataframe\">\n  <thead>\n    <tr style=\"text-align: right;\">\n      <th></th>\n      <th>gender</th>\n      <th>age</th>\n      <th>hypertension</th>\n      <th>heart_disease</th>\n      <th>smoking_history</th>\n      <th>bmi</th>\n      <th>HbA1c_level</th>\n      <th>blood_glucose_level</th>\n      <th>diabetes</th>\n    </tr>\n  </thead>\n  <tbody>\n    <tr>\n      <th>0</th>\n      <td>Female</td>\n      <td>80.0</td>\n      <td>0</td>\n      <td>1</td>\n      <td>never</td>\n      <td>25.19</td>\n      <td>6.6</td>\n      <td>140</td>\n      <td>0</td>\n    </tr>\n    <tr>\n      <th>1</th>\n      <td>Female</td>\n      <td>54.0</td>\n      <td>0</td>\n      <td>0</td>\n      <td>No Info</td>\n      <td>27.32</td>\n      <td>6.6</td>\n      <td>80</td>\n      <td>0</td>\n    </tr>\n    <tr>\n      <th>2</th>\n      <td>Male</td>\n      <td>28.0</td>\n      <td>0</td>\n      <td>0</td>\n      <td>never</td>\n      <td>27.32</td>\n      <td>5.7</td>\n      <td>158</td>\n      <td>0</td>\n    </tr>\n    <tr>\n      <th>3</th>\n      <td>Female</td>\n      <td>36.0</td>\n      <td>0</td>\n      <td>0</td>\n      <td>current</td>\n      <td>23.45</td>\n      <td>5.0</td>\n      <td>155</td>\n      <td>0</td>\n    </tr>\n    <tr>\n      <th>4</th>\n      <td>Male</td>\n      <td>76.0</td>\n      <td>1</td>\n      <td>1</td>\n      <td>current</td>\n      <td>20.14</td>\n      <td>4.8</td>\n      <td>155</td>\n      <td>0</td>\n    </tr>\n    <tr>\n      <th>...</th>\n      <td>...</td>\n      <td>...</td>\n      <td>...</td>\n      <td>...</td>\n      <td>...</td>\n      <td>...</td>\n      <td>...</td>\n      <td>...</td>\n      <td>...</td>\n    </tr>\n    <tr>\n      <th>99995</th>\n      <td>Female</td>\n      <td>80.0</td>\n      <td>0</td>\n      <td>0</td>\n      <td>No Info</td>\n      <td>27.32</td>\n      <td>6.2</td>\n      <td>90</td>\n      <td>0</td>\n    </tr>\n    <tr>\n      <th>99996</th>\n      <td>Female</td>\n      <td>2.0</td>\n      <td>0</td>\n      <td>0</td>\n      <td>No Info</td>\n      <td>17.37</td>\n      <td>6.5</td>\n      <td>100</td>\n      <td>0</td>\n    </tr>\n    <tr>\n      <th>99997</th>\n      <td>Male</td>\n      <td>66.0</td>\n      <td>0</td>\n      <td>0</td>\n      <td>former</td>\n      <td>27.83</td>\n      <td>5.7</td>\n      <td>155</td>\n      <td>0</td>\n    </tr>\n    <tr>\n      <th>99998</th>\n      <td>Female</td>\n      <td>24.0</td>\n      <td>0</td>\n      <td>0</td>\n      <td>never</td>\n      <td>35.42</td>\n      <td>4.0</td>\n      <td>100</td>\n      <td>0</td>\n    </tr>\n    <tr>\n      <th>99999</th>\n      <td>Female</td>\n      <td>57.0</td>\n      <td>0</td>\n      <td>0</td>\n      <td>current</td>\n      <td>22.43</td>\n      <td>6.6</td>\n      <td>90</td>\n      <td>0</td>\n    </tr>\n  </tbody>\n</table>\n<p>100000 rows × 9 columns</p>\n</div>"
     },
     "execution_count": 7,
     "metadata": {},
     "output_type": "execute_result"
    }
   ],
   "source": [
    "data"
   ],
   "metadata": {
    "collapsed": false,
    "ExecuteTime": {
     "end_time": "2023-12-12T13:59:26.074631600Z",
     "start_time": "2023-12-12T13:59:26.025605900Z"
    }
   },
   "id": "78cab5621c6b207a"
  },
  {
   "cell_type": "code",
   "execution_count": null,
   "outputs": [],
   "source": [],
   "metadata": {
    "collapsed": false
   },
   "id": "4047357ca6b713b3"
  }
 ],
 "metadata": {
  "kernelspec": {
   "display_name": "Python 3",
   "language": "python",
   "name": "python3"
  },
  "language_info": {
   "codemirror_mode": {
    "name": "ipython",
    "version": 2
   },
   "file_extension": ".py",
   "mimetype": "text/x-python",
   "name": "python",
   "nbconvert_exporter": "python",
   "pygments_lexer": "ipython2",
   "version": "2.7.6"
  }
 },
 "nbformat": 4,
 "nbformat_minor": 5
}
