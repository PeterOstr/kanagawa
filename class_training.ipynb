{
 "cells": [
  {
   "cell_type": "code",
   "execution_count": 18,
   "id": "initial_id",
   "metadata": {
    "collapsed": true,
    "ExecuteTime": {
     "end_time": "2023-12-24T15:03:01.311790Z",
     "start_time": "2023-12-24T15:03:01.294787900Z"
    }
   },
   "outputs": [],
   "source": [
    "class Household:\n",
    "    member_num = 0\n",
    "\n",
    "    class Household:\n",
    "        member_num = 0\n",
    "    tax_rates = {\n",
    "        'USA': 0.2,  \n",
    "        'Canada': 0.21,\n",
    "        'Sweden': 0.54\n",
    "    }\n",
    "\n",
    "    def __init__(self, country, income, member_num):\n",
    "        self.country = country\n",
    "        self.income = income\n",
    "        self.member_num = member_num\n",
    "        self.tax_rate = Household.tax_rates.get(country, 0.0)  # Получение ставки налога из таблицы\n",
    "        self.tax_paid = self.calculate_tax_paid()\n",
    "        Household.member_num += 1\n",
    "\n",
    "    def calculate_tax_paid(self):\n",
    "        return self.income * self.tax_rate\n",
    "\n",
    "    def overview_info(self):\n",
    "        print('ID: {}. Country: {}. Income: {}. Tax Paid: {}'.format(\n",
    "            self.member_num, self.country, self.income, self.tax_paid\n",
    "        ))\n",
    "\n"
   ]
  },
  {
   "cell_type": "code",
   "execution_count": 19,
   "outputs": [],
   "source": [
    "utah_household = Household('USA', 200000,3)"
   ],
   "metadata": {
    "collapsed": false,
    "ExecuteTime": {
     "end_time": "2023-12-24T15:03:01.624623Z",
     "start_time": "2023-12-24T15:03:01.604674900Z"
    }
   },
   "id": "1e54a2277de7b2f3"
  },
  {
   "cell_type": "code",
   "execution_count": 21,
   "outputs": [
    {
     "name": "stdout",
     "output_type": "stream",
     "text": [
      "ID: 3. Country: USA. Income: 200000. Tax Paid: 40000.0\n"
     ]
    }
   ],
   "source": [
    "utah_household.overview_info()"
   ],
   "metadata": {
    "collapsed": false,
    "ExecuteTime": {
     "end_time": "2023-12-24T15:07:40.655226Z",
     "start_time": "2023-12-24T15:07:40.627895100Z"
    }
   },
   "id": "2103952ff3cf36b8"
  },
  {
   "cell_type": "code",
   "execution_count": 22,
   "outputs": [],
   "source": [
    "utah_household.city = 'Provo'"
   ],
   "metadata": {
    "collapsed": false,
    "ExecuteTime": {
     "end_time": "2023-12-24T15:09:11.564522500Z",
     "start_time": "2023-12-24T15:09:11.515527Z"
    }
   },
   "id": "f25685cae0737dcd"
  },
  {
   "cell_type": "code",
   "execution_count": 26,
   "outputs": [
    {
     "data": {
      "text/plain": "'Provo'"
     },
     "execution_count": 26,
     "metadata": {},
     "output_type": "execute_result"
    }
   ],
   "source": [
    "utah_household.city"
   ],
   "metadata": {
    "collapsed": false,
    "ExecuteTime": {
     "end_time": "2023-12-24T15:13:25.965033400Z",
     "start_time": "2023-12-24T15:13:25.939028500Z"
    }
   },
   "id": "eaea7680d93a4153"
  },
  {
   "cell_type": "code",
   "execution_count": 27,
   "outputs": [],
   "source": [
    "setattr(utah_household,'business_owner','yes')"
   ],
   "metadata": {
    "collapsed": false,
    "ExecuteTime": {
     "end_time": "2023-12-24T15:16:07.722612600Z",
     "start_time": "2023-12-24T15:16:07.675791400Z"
    }
   },
   "id": "b651721845f493d4"
  },
  {
   "cell_type": "code",
   "execution_count": 28,
   "outputs": [
    {
     "data": {
      "text/plain": "'yes'"
     },
     "execution_count": 28,
     "metadata": {},
     "output_type": "execute_result"
    }
   ],
   "source": [
    "utah_household.business_owner"
   ],
   "metadata": {
    "collapsed": false,
    "ExecuteTime": {
     "end_time": "2023-12-24T15:16:23.960927100Z",
     "start_time": "2023-12-24T15:16:23.921926900Z"
    }
   },
   "id": "9bedea1881c0210b"
  },
  {
   "cell_type": "code",
   "execution_count": null,
   "outputs": [],
   "source": [],
   "metadata": {
    "collapsed": false
   },
   "id": "b694d397d7adacea"
  }
 ],
 "metadata": {
  "kernelspec": {
   "display_name": "Python 3",
   "language": "python",
   "name": "python3"
  },
  "language_info": {
   "codemirror_mode": {
    "name": "ipython",
    "version": 2
   },
   "file_extension": ".py",
   "mimetype": "text/x-python",
   "name": "python",
   "nbconvert_exporter": "python",
   "pygments_lexer": "ipython2",
   "version": "2.7.6"
  }
 },
 "nbformat": 4,
 "nbformat_minor": 5
}
