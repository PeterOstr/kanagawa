{
 "cells": [
  {
   "cell_type": "code",
   "execution_count": 16,
   "id": "initial_id",
   "metadata": {
    "collapsed": true,
    "ExecuteTime": {
     "end_time": "2024-01-07T15:15:29.110748900Z",
     "start_time": "2024-01-07T15:15:29.087746600Z"
    }
   },
   "outputs": [],
   "source": [
    "import streamlit as st\n",
    "import pandas as pd\n",
    "import numpy as np\n",
    "import joblib\n",
    "import pycaret\n",
    "import sklearn\n",
    "import scipy"
   ]
  },
  {
   "cell_type": "code",
   "execution_count": 17,
   "outputs": [
    {
     "data": {
      "text/plain": "'2.2.0'"
     },
     "execution_count": 17,
     "metadata": {},
     "output_type": "execute_result"
    }
   ],
   "source": [
    "pycaret.__version__"
   ],
   "metadata": {
    "collapsed": false,
    "ExecuteTime": {
     "end_time": "2024-01-07T15:15:29.419932800Z",
     "start_time": "2024-01-07T15:15:29.391937600Z"
    }
   },
   "id": "7602002b47d0a123"
  },
  {
   "cell_type": "code",
   "execution_count": 19,
   "outputs": [
    {
     "data": {
      "text/plain": "'1.3.2'"
     },
     "execution_count": 19,
     "metadata": {},
     "output_type": "execute_result"
    }
   ],
   "source": [
    "sklearn.__version__"
   ],
   "metadata": {
    "collapsed": false,
    "ExecuteTime": {
     "end_time": "2024-01-07T15:22:04.966022400Z",
     "start_time": "2024-01-07T15:22:04.940022700Z"
    }
   },
   "id": "cc52c0bd24126543"
  },
  {
   "cell_type": "code",
   "execution_count": 15,
   "outputs": [
    {
     "ename": "ModuleNotFoundError",
     "evalue": "No module named 'pycaret.utils.generic'; 'pycaret.utils' is not a package",
     "output_type": "error",
     "traceback": [
      "\u001B[1;31m---------------------------------------------------------------------------\u001B[0m",
      "\u001B[1;31mModuleNotFoundError\u001B[0m                       Traceback (most recent call last)",
      "Cell \u001B[1;32mIn[15], line 2\u001B[0m\n\u001B[0;32m      1\u001B[0m \u001B[38;5;28;01mfrom\u001B[39;00m \u001B[38;5;21;01mpycaret\u001B[39;00m\u001B[38;5;21;01m.\u001B[39;00m\u001B[38;5;21;01mdatasets\u001B[39;00m \u001B[38;5;28;01mimport\u001B[39;00m get_data\n\u001B[1;32m----> 2\u001B[0m \u001B[38;5;28;01mfrom\u001B[39;00m \u001B[38;5;21;01mpycaret\u001B[39;00m\u001B[38;5;21;01m.\u001B[39;00m\u001B[38;5;21;01mclassification\u001B[39;00m \u001B[38;5;28;01mimport\u001B[39;00m \u001B[38;5;241m*\u001B[39m\n",
      "File \u001B[1;32mC:\\ProgramData\\anaconda3\\envs\\kanagawa\\lib\\site-packages\\pycaret\\classification\\__init__.py:1\u001B[0m\n\u001B[1;32m----> 1\u001B[0m \u001B[38;5;28;01mfrom\u001B[39;00m \u001B[38;5;21;01mpycaret\u001B[39;00m\u001B[38;5;21;01m.\u001B[39;00m\u001B[38;5;21;01mclassification\u001B[39;00m\u001B[38;5;21;01m.\u001B[39;00m\u001B[38;5;21;01mfunctional\u001B[39;00m \u001B[38;5;28;01mimport\u001B[39;00m (\n\u001B[0;32m      2\u001B[0m     add_metric,\n\u001B[0;32m      3\u001B[0m     automl,\n\u001B[0;32m      4\u001B[0m     blend_models,\n\u001B[0;32m      5\u001B[0m     calibrate_model,\n\u001B[0;32m      6\u001B[0m     check_drift,\n\u001B[0;32m      7\u001B[0m     check_fairness,\n\u001B[0;32m      8\u001B[0m     compare_models,\n\u001B[0;32m      9\u001B[0m     convert_model,\n\u001B[0;32m     10\u001B[0m     create_api,\n\u001B[0;32m     11\u001B[0m     create_app,\n\u001B[0;32m     12\u001B[0m     create_docker,\n\u001B[0;32m     13\u001B[0m     create_model,\n\u001B[0;32m     14\u001B[0m     dashboard,\n\u001B[0;32m     15\u001B[0m     deploy_model,\n\u001B[0;32m     16\u001B[0m     ensemble_model,\n\u001B[0;32m     17\u001B[0m     evaluate_model,\n\u001B[0;32m     18\u001B[0m     finalize_model,\n\u001B[0;32m     19\u001B[0m     get_allowed_engines,\n\u001B[0;32m     20\u001B[0m     get_config,\n\u001B[0;32m     21\u001B[0m     get_current_experiment,\n\u001B[0;32m     22\u001B[0m     get_engine,\n\u001B[0;32m     23\u001B[0m     get_leaderboard,\n\u001B[0;32m     24\u001B[0m     get_logs,\n\u001B[0;32m     25\u001B[0m     get_metrics,\n\u001B[0;32m     26\u001B[0m     interpret_model,\n\u001B[0;32m     27\u001B[0m     load_experiment,\n\u001B[0;32m     28\u001B[0m     load_model,\n\u001B[0;32m     29\u001B[0m     models,\n\u001B[0;32m     30\u001B[0m     optimize_threshold,\n\u001B[0;32m     31\u001B[0m     plot_model,\n\u001B[0;32m     32\u001B[0m     predict_model,\n\u001B[0;32m     33\u001B[0m     pull,\n\u001B[0;32m     34\u001B[0m     remove_metric,\n\u001B[0;32m     35\u001B[0m     save_experiment,\n\u001B[0;32m     36\u001B[0m     save_model,\n\u001B[0;32m     37\u001B[0m     set_config,\n\u001B[0;32m     38\u001B[0m     set_current_experiment,\n\u001B[0;32m     39\u001B[0m     setup,\n\u001B[0;32m     40\u001B[0m     stack_models,\n\u001B[0;32m     41\u001B[0m     tune_model,\n\u001B[0;32m     42\u001B[0m )\n\u001B[0;32m     43\u001B[0m \u001B[38;5;28;01mfrom\u001B[39;00m \u001B[38;5;21;01mpycaret\u001B[39;00m\u001B[38;5;21;01m.\u001B[39;00m\u001B[38;5;21;01mclassification\u001B[39;00m\u001B[38;5;21;01m.\u001B[39;00m\u001B[38;5;21;01moop\u001B[39;00m \u001B[38;5;28;01mimport\u001B[39;00m ClassificationExperiment\n\u001B[0;32m     45\u001B[0m __all__ \u001B[38;5;241m=\u001B[39m [\n\u001B[0;32m     46\u001B[0m     \u001B[38;5;124m\"\u001B[39m\u001B[38;5;124mClassificationExperiment\u001B[39m\u001B[38;5;124m\"\u001B[39m,\n\u001B[0;32m     47\u001B[0m     \u001B[38;5;124m\"\u001B[39m\u001B[38;5;124msetup\u001B[39m\u001B[38;5;124m\"\u001B[39m,\n\u001B[1;32m   (...)\u001B[0m\n\u001B[0;32m     86\u001B[0m     \u001B[38;5;124m\"\u001B[39m\u001B[38;5;124mcheck_drift\u001B[39m\u001B[38;5;124m\"\u001B[39m,\n\u001B[0;32m     87\u001B[0m ]\n",
      "File \u001B[1;32mC:\\ProgramData\\anaconda3\\envs\\kanagawa\\lib\\site-packages\\pycaret\\classification\\functional.py:8\u001B[0m\n\u001B[0;32m      5\u001B[0m \u001B[38;5;28;01mimport\u001B[39;00m \u001B[38;5;21;01mpandas\u001B[39;00m \u001B[38;5;28;01mas\u001B[39;00m \u001B[38;5;21;01mpd\u001B[39;00m\n\u001B[0;32m      6\u001B[0m \u001B[38;5;28;01mfrom\u001B[39;00m \u001B[38;5;21;01mjoblib\u001B[39;00m\u001B[38;5;21;01m.\u001B[39;00m\u001B[38;5;21;01mmemory\u001B[39;00m \u001B[38;5;28;01mimport\u001B[39;00m Memory\n\u001B[1;32m----> 8\u001B[0m \u001B[38;5;28;01mfrom\u001B[39;00m \u001B[38;5;21;01mpycaret\u001B[39;00m\u001B[38;5;21;01m.\u001B[39;00m\u001B[38;5;21;01mclassification\u001B[39;00m\u001B[38;5;21;01m.\u001B[39;00m\u001B[38;5;21;01moop\u001B[39;00m \u001B[38;5;28;01mimport\u001B[39;00m ClassificationExperiment\n\u001B[0;32m      9\u001B[0m \u001B[38;5;28;01mfrom\u001B[39;00m \u001B[38;5;21;01mpycaret\u001B[39;00m\u001B[38;5;21;01m.\u001B[39;00m\u001B[38;5;21;01minternal\u001B[39;00m\u001B[38;5;21;01m.\u001B[39;00m\u001B[38;5;21;01mparallel\u001B[39;00m\u001B[38;5;21;01m.\u001B[39;00m\u001B[38;5;21;01mparallel_backend\u001B[39;00m \u001B[38;5;28;01mimport\u001B[39;00m ParallelBackend\n\u001B[0;32m     10\u001B[0m \u001B[38;5;28;01mfrom\u001B[39;00m \u001B[38;5;21;01mpycaret\u001B[39;00m\u001B[38;5;21;01m.\u001B[39;00m\u001B[38;5;21;01mloggers\u001B[39;00m\u001B[38;5;21;01m.\u001B[39;00m\u001B[38;5;21;01mbase_logger\u001B[39;00m \u001B[38;5;28;01mimport\u001B[39;00m BaseLogger\n",
      "File \u001B[1;32mC:\\ProgramData\\anaconda3\\envs\\kanagawa\\lib\\site-packages\\pycaret\\classification\\oop.py:16\u001B[0m\n\u001B[0;32m     13\u001B[0m \u001B[38;5;28;01mfrom\u001B[39;00m \u001B[38;5;21;01mjoblib\u001B[39;00m\u001B[38;5;21;01m.\u001B[39;00m\u001B[38;5;21;01mmemory\u001B[39;00m \u001B[38;5;28;01mimport\u001B[39;00m Memory\n\u001B[0;32m     14\u001B[0m \u001B[38;5;28;01mfrom\u001B[39;00m \u001B[38;5;21;01mscipy\u001B[39;00m\u001B[38;5;21;01m.\u001B[39;00m\u001B[38;5;21;01moptimize\u001B[39;00m \u001B[38;5;28;01mimport\u001B[39;00m shgo\n\u001B[1;32m---> 16\u001B[0m \u001B[38;5;28;01mfrom\u001B[39;00m \u001B[38;5;21;01mpycaret\u001B[39;00m\u001B[38;5;21;01m.\u001B[39;00m\u001B[38;5;21;01mcontainers\u001B[39;00m\u001B[38;5;21;01m.\u001B[39;00m\u001B[38;5;21;01mmetrics\u001B[39;00m\u001B[38;5;21;01m.\u001B[39;00m\u001B[38;5;21;01mclassification\u001B[39;00m \u001B[38;5;28;01mimport\u001B[39;00m get_all_metric_containers\n\u001B[0;32m     17\u001B[0m \u001B[38;5;28;01mfrom\u001B[39;00m \u001B[38;5;21;01mpycaret\u001B[39;00m\u001B[38;5;21;01m.\u001B[39;00m\u001B[38;5;21;01mcontainers\u001B[39;00m\u001B[38;5;21;01m.\u001B[39;00m\u001B[38;5;21;01mmodels\u001B[39;00m\u001B[38;5;21;01m.\u001B[39;00m\u001B[38;5;21;01mclassification\u001B[39;00m \u001B[38;5;28;01mimport\u001B[39;00m (\n\u001B[0;32m     18\u001B[0m     ALL_ALLOWED_ENGINES,\n\u001B[0;32m     19\u001B[0m     get_all_model_containers,\n\u001B[0;32m     20\u001B[0m     get_container_default_engines,\n\u001B[0;32m     21\u001B[0m )\n\u001B[0;32m     22\u001B[0m \u001B[38;5;28;01mfrom\u001B[39;00m \u001B[38;5;21;01mpycaret\u001B[39;00m\u001B[38;5;21;01m.\u001B[39;00m\u001B[38;5;21;01minternal\u001B[39;00m\u001B[38;5;21;01m.\u001B[39;00m\u001B[38;5;21;01mdisplay\u001B[39;00m \u001B[38;5;28;01mimport\u001B[39;00m CommonDisplay\n",
      "File \u001B[1;32mC:\\ProgramData\\anaconda3\\envs\\kanagawa\\lib\\site-packages\\pycaret\\containers\\metrics\\classification.py:17\u001B[0m\n\u001B[0;32m     14\u001B[0m \u001B[38;5;28;01mfrom\u001B[39;00m \u001B[38;5;21;01msklearn\u001B[39;00m\u001B[38;5;21;01m.\u001B[39;00m\u001B[38;5;21;01mmetrics\u001B[39;00m\u001B[38;5;21;01m.\u001B[39;00m\u001B[38;5;21;01m_scorer\u001B[39;00m \u001B[38;5;28;01mimport\u001B[39;00m _BaseScorer\n\u001B[0;32m     16\u001B[0m \u001B[38;5;28;01mimport\u001B[39;00m \u001B[38;5;21;01mpycaret\u001B[39;00m\u001B[38;5;21;01m.\u001B[39;00m\u001B[38;5;21;01mcontainers\u001B[39;00m\u001B[38;5;21;01m.\u001B[39;00m\u001B[38;5;21;01mbase_container\u001B[39;00m\n\u001B[1;32m---> 17\u001B[0m \u001B[38;5;28;01mimport\u001B[39;00m \u001B[38;5;21;01mpycaret\u001B[39;00m\u001B[38;5;21;01m.\u001B[39;00m\u001B[38;5;21;01minternal\u001B[39;00m\u001B[38;5;21;01m.\u001B[39;00m\u001B[38;5;21;01mmetrics\u001B[39;00m\n\u001B[0;32m     18\u001B[0m \u001B[38;5;28;01mfrom\u001B[39;00m \u001B[38;5;21;01mpycaret\u001B[39;00m\u001B[38;5;21;01m.\u001B[39;00m\u001B[38;5;21;01mcontainers\u001B[39;00m\u001B[38;5;21;01m.\u001B[39;00m\u001B[38;5;21;01mmetrics\u001B[39;00m\u001B[38;5;21;01m.\u001B[39;00m\u001B[38;5;21;01mbase_metric\u001B[39;00m \u001B[38;5;28;01mimport\u001B[39;00m MetricContainer\n\u001B[0;32m     21\u001B[0m \u001B[38;5;28;01mclass\u001B[39;00m \u001B[38;5;21;01mClassificationMetricContainer\u001B[39;00m(MetricContainer):\n",
      "File \u001B[1;32mC:\\ProgramData\\anaconda3\\envs\\kanagawa\\lib\\site-packages\\pycaret\\internal\\metrics.py:11\u001B[0m\n\u001B[0;32m      8\u001B[0m \u001B[38;5;28;01mfrom\u001B[39;00m \u001B[38;5;21;01msklearn\u001B[39;00m\u001B[38;5;21;01m.\u001B[39;00m\u001B[38;5;21;01mpreprocessing\u001B[39;00m \u001B[38;5;28;01mimport\u001B[39;00m LabelEncoder\n\u001B[0;32m      9\u001B[0m \u001B[38;5;28;01mfrom\u001B[39;00m \u001B[38;5;21;01msklearn\u001B[39;00m\u001B[38;5;21;01m.\u001B[39;00m\u001B[38;5;21;01mutils\u001B[39;00m \u001B[38;5;28;01mimport\u001B[39;00m _safe_indexing\n\u001B[1;32m---> 11\u001B[0m \u001B[38;5;28;01mfrom\u001B[39;00m \u001B[38;5;21;01mpycaret\u001B[39;00m\u001B[38;5;21;01m.\u001B[39;00m\u001B[38;5;21;01mutils\u001B[39;00m\u001B[38;5;21;01m.\u001B[39;00m\u001B[38;5;21;01mgeneric\u001B[39;00m \u001B[38;5;28;01mimport\u001B[39;00m get_label_encoder\n\u001B[0;32m     13\u001B[0m _fit_failed_message_warning \u001B[38;5;241m=\u001B[39m (\n\u001B[0;32m     14\u001B[0m     \u001B[38;5;124m\"\u001B[39m\u001B[38;5;124mMetric \u001B[39m\u001B[38;5;124m'\u001B[39m\u001B[38;5;132;01m{0}\u001B[39;00m\u001B[38;5;124m'\u001B[39m\u001B[38;5;124m failed and error score \u001B[39m\u001B[38;5;132;01m{1}\u001B[39;00m\u001B[38;5;124m has been returned instead. \u001B[39m\u001B[38;5;124m\"\u001B[39m\n\u001B[0;32m     15\u001B[0m     \u001B[38;5;124m\"\u001B[39m\u001B[38;5;124mIf this is a custom metric, this usually means that the error is \u001B[39m\u001B[38;5;124m\"\u001B[39m\n\u001B[0;32m     16\u001B[0m     \u001B[38;5;124m\"\u001B[39m\u001B[38;5;124min the metric code. \u001B[39m\u001B[38;5;124m\"\u001B[39m\n\u001B[0;32m     17\u001B[0m     \u001B[38;5;124m\"\u001B[39m\u001B[38;5;124mFull exception below:\u001B[39m\u001B[38;5;130;01m\\n\u001B[39;00m\u001B[38;5;132;01m{2}\u001B[39;00m\u001B[38;5;124m\"\u001B[39m\n\u001B[0;32m     18\u001B[0m )\n\u001B[0;32m     21\u001B[0m \u001B[38;5;28;01mdef\u001B[39;00m \u001B[38;5;21mget_pos_label\u001B[39m(globals_dict: \u001B[38;5;28mdict\u001B[39m):\n",
      "\u001B[1;31mModuleNotFoundError\u001B[0m: No module named 'pycaret.utils.generic'; 'pycaret.utils' is not a package"
     ]
    }
   ],
   "source": [
    "from pycaret.datasets import get_data\n",
    "from pycaret.classification import *"
   ],
   "metadata": {
    "collapsed": false,
    "ExecuteTime": {
     "end_time": "2024-01-07T15:08:53.662724900Z",
     "start_time": "2024-01-07T15:08:52.525727500Z"
    }
   },
   "id": "6196a34d82a7c9f6"
  },
  {
   "cell_type": "code",
   "execution_count": 5,
   "outputs": [],
   "source": [
    "data = pd.read_csv('diabetes_prediction_dataset.csv')\n"
   ],
   "metadata": {
    "collapsed": false,
    "ExecuteTime": {
     "end_time": "2024-01-02T20:34:23.507238900Z",
     "start_time": "2024-01-02T20:34:23.402235700Z"
    }
   },
   "id": "312a75ad7df44e49"
  },
  {
   "cell_type": "code",
   "execution_count": 6,
   "outputs": [],
   "source": [
    "X = data.drop('diabetes',axis=1)\n",
    "y = data['diabetes']"
   ],
   "metadata": {
    "collapsed": false,
    "ExecuteTime": {
     "end_time": "2024-01-02T20:34:23.866455500Z",
     "start_time": "2024-01-02T20:34:23.847456200Z"
    }
   },
   "id": "be5d62c34b257cd4"
  },
  {
   "cell_type": "code",
   "execution_count": null,
   "outputs": [],
   "source": [
    "\n",
    "# model1 = setup(data = data, target = 'Disease')"
   ],
   "metadata": {
    "collapsed": false,
    "ExecuteTime": {
     "end_time": "2024-01-02T20:31:27.563132100Z",
     "start_time": "2024-01-02T20:31:27.560131300Z"
    }
   },
   "id": "959a629f199b858"
  },
  {
   "cell_type": "markdown",
   "source": [
    "confusion matrix\n",
    "roc_auc \n",
    "precision-recall\n",
    "f1 score\n",
    "balanced accuracy\n",
    "r2 "
   ],
   "metadata": {
    "collapsed": false
   },
   "id": "90ac995f05f15a3"
  },
  {
   "cell_type": "code",
   "execution_count": null,
   "outputs": [],
   "source": [],
   "metadata": {
    "collapsed": false
   },
   "id": "adbf6a3c5e7a0ebb"
  },
  {
   "cell_type": "code",
   "execution_count": 4,
   "outputs": [],
   "source": [
    "model = joblib.load('xgb_optuna_model.joblib')"
   ],
   "metadata": {
    "collapsed": false,
    "ExecuteTime": {
     "end_time": "2024-01-02T20:33:39.694019500Z",
     "start_time": "2024-01-02T20:33:38.293499100Z"
    }
   },
   "id": "790b6aacfc6552d3"
  },
  {
   "cell_type": "code",
   "execution_count": 16,
   "outputs": [],
   "source": [
    "# predict on test data\n",
    "y_pred = np.round(model.predict(X))\n",
    "\n",
    "pd.DataFrame(y_pred).to_csv('y_pred.csv', index=False)\n",
    "pd.DataFrame(y).to_csv('y.csv', index=False)"
   ],
   "metadata": {
    "collapsed": false,
    "ExecuteTime": {
     "end_time": "2024-01-02T20:40:02.979725200Z",
     "start_time": "2024-01-02T20:40:02.654723300Z"
    }
   },
   "id": "805b24485c2e9a6b"
  },
  {
   "cell_type": "code",
   "execution_count": 2,
   "outputs": [
    {
     "data": {
      "text/plain": "   age  sex  chest pain type  resting blood pressure  \\\n0   70    1                4                     130   \n1   67    0                3                     115   \n2   57    1                2                     124   \n3   64    1                4                     128   \n4   74    0                2                     120   \n\n   serum cholestoral in mg/dl        fasting blood sugar > 120 mg/dl   \\\n0                               322                                 0   \n1                               564                                 0   \n2                               261                                 0   \n3                               263                                 0   \n4                               269                                 0   \n\n   resting electrocardiographic results  maximum heart rate achieved    \\\n0                                     2                            109   \n1                                     2                            160   \n2                                     0                            141   \n3                                     0                            105   \n4                                     2                            121   \n\n   exercise induced angina      oldpeak   slope of peak  \\\n0                            0       2.4              2   \n1                            0       1.6              2   \n2                            0       0.3              1   \n3                            1       0.2              2   \n4                            1       0.2              1   \n\n   number of major vessels   thal  Disease  \n0                         3     3        1  \n1                         0     7        0  \n2                         0     7        1  \n3                         1     7        0  \n4                         1     3        0  ",
      "text/html": "<div>\n<style scoped>\n    .dataframe tbody tr th:only-of-type {\n        vertical-align: middle;\n    }\n\n    .dataframe tbody tr th {\n        vertical-align: top;\n    }\n\n    .dataframe thead th {\n        text-align: right;\n    }\n</style>\n<table border=\"1\" class=\"dataframe\">\n  <thead>\n    <tr style=\"text-align: right;\">\n      <th></th>\n      <th>age</th>\n      <th>sex</th>\n      <th>chest pain type</th>\n      <th>resting blood pressure</th>\n      <th>serum cholestoral in mg/dl</th>\n      <th>fasting blood sugar &gt; 120 mg/dl</th>\n      <th>resting electrocardiographic results</th>\n      <th>maximum heart rate achieved</th>\n      <th>exercise induced angina</th>\n      <th>oldpeak</th>\n      <th>slope of peak</th>\n      <th>number of major vessels</th>\n      <th>thal</th>\n      <th>Disease</th>\n    </tr>\n  </thead>\n  <tbody>\n    <tr>\n      <th>0</th>\n      <td>70</td>\n      <td>1</td>\n      <td>4</td>\n      <td>130</td>\n      <td>322</td>\n      <td>0</td>\n      <td>2</td>\n      <td>109</td>\n      <td>0</td>\n      <td>2.4</td>\n      <td>2</td>\n      <td>3</td>\n      <td>3</td>\n      <td>1</td>\n    </tr>\n    <tr>\n      <th>1</th>\n      <td>67</td>\n      <td>0</td>\n      <td>3</td>\n      <td>115</td>\n      <td>564</td>\n      <td>0</td>\n      <td>2</td>\n      <td>160</td>\n      <td>0</td>\n      <td>1.6</td>\n      <td>2</td>\n      <td>0</td>\n      <td>7</td>\n      <td>0</td>\n    </tr>\n    <tr>\n      <th>2</th>\n      <td>57</td>\n      <td>1</td>\n      <td>2</td>\n      <td>124</td>\n      <td>261</td>\n      <td>0</td>\n      <td>0</td>\n      <td>141</td>\n      <td>0</td>\n      <td>0.3</td>\n      <td>1</td>\n      <td>0</td>\n      <td>7</td>\n      <td>1</td>\n    </tr>\n    <tr>\n      <th>3</th>\n      <td>64</td>\n      <td>1</td>\n      <td>4</td>\n      <td>128</td>\n      <td>263</td>\n      <td>0</td>\n      <td>0</td>\n      <td>105</td>\n      <td>1</td>\n      <td>0.2</td>\n      <td>2</td>\n      <td>1</td>\n      <td>7</td>\n      <td>0</td>\n    </tr>\n    <tr>\n      <th>4</th>\n      <td>74</td>\n      <td>0</td>\n      <td>2</td>\n      <td>120</td>\n      <td>269</td>\n      <td>0</td>\n      <td>2</td>\n      <td>121</td>\n      <td>1</td>\n      <td>0.2</td>\n      <td>1</td>\n      <td>1</td>\n      <td>3</td>\n      <td>0</td>\n    </tr>\n  </tbody>\n</table>\n</div>"
     },
     "metadata": {},
     "output_type": "display_data"
    }
   ],
   "source": [
    "import pycaret\n",
    "from pycaret.datasets import get_data\n",
    "data = get_data('heart_disease')"
   ],
   "metadata": {
    "collapsed": false,
    "ExecuteTime": {
     "end_time": "2024-01-06T13:55:05.142164800Z",
     "start_time": "2024-01-06T13:55:04.864413Z"
    }
   },
   "id": "f883cfe243bb796"
  },
  {
   "cell_type": "code",
   "execution_count": 3,
   "outputs": [
    {
     "ename": "ImportError",
     "evalue": "cannot import name 'if_delegate_has_method' from 'sklearn.utils.metaestimators' (C:\\ProgramData\\anaconda3\\envs\\kanagawa\\lib\\site-packages\\sklearn\\utils\\metaestimators.py)",
     "output_type": "error",
     "traceback": [
      "\u001B[1;31m---------------------------------------------------------------------------\u001B[0m",
      "\u001B[1;31mImportError\u001B[0m                               Traceback (most recent call last)",
      "Cell \u001B[1;32mIn[3], line 1\u001B[0m\n\u001B[1;32m----> 1\u001B[0m \u001B[38;5;28;01mfrom\u001B[39;00m \u001B[38;5;21;01mpycaret\u001B[39;00m\u001B[38;5;21;01m.\u001B[39;00m\u001B[38;5;21;01mclassification\u001B[39;00m \u001B[38;5;28;01mimport\u001B[39;00m \u001B[38;5;241m*\u001B[39m\n\u001B[0;32m      2\u001B[0m model1 \u001B[38;5;241m=\u001B[39m setup(data \u001B[38;5;241m=\u001B[39m data, target \u001B[38;5;241m=\u001B[39m \u001B[38;5;124m'\u001B[39m\u001B[38;5;124mDisease\u001B[39m\u001B[38;5;124m'\u001B[39m)\n",
      "File \u001B[1;32mC:\\ProgramData\\anaconda3\\envs\\kanagawa\\lib\\site-packages\\pycaret\\classification.py:10\u001B[0m\n\u001B[0;32m      7\u001B[0m \u001B[38;5;28;01mimport\u001B[39;00m \u001B[38;5;21;01mpandas\u001B[39;00m \u001B[38;5;28;01mas\u001B[39;00m \u001B[38;5;21;01mpd\u001B[39;00m\n\u001B[0;32m      8\u001B[0m \u001B[38;5;28;01mimport\u001B[39;00m \u001B[38;5;21;01mnumpy\u001B[39;00m \u001B[38;5;28;01mas\u001B[39;00m \u001B[38;5;21;01mnp\u001B[39;00m\n\u001B[1;32m---> 10\u001B[0m \u001B[38;5;28;01mimport\u001B[39;00m \u001B[38;5;21;01mpycaret\u001B[39;00m\u001B[38;5;21;01m.\u001B[39;00m\u001B[38;5;21;01minternal\u001B[39;00m\u001B[38;5;21;01m.\u001B[39;00m\u001B[38;5;21;01mtabular\u001B[39;00m\n\u001B[0;32m     11\u001B[0m \u001B[38;5;28;01mfrom\u001B[39;00m \u001B[38;5;21;01mpycaret\u001B[39;00m\u001B[38;5;21;01m.\u001B[39;00m\u001B[38;5;21;01minternal\u001B[39;00m\u001B[38;5;21;01m.\u001B[39;00m\u001B[38;5;21;01mDisplay\u001B[39;00m \u001B[38;5;28;01mimport\u001B[39;00m Display, is_in_colab, enable_colab\n\u001B[0;32m     12\u001B[0m \u001B[38;5;28;01mfrom\u001B[39;00m \u001B[38;5;21;01mtyping\u001B[39;00m \u001B[38;5;28;01mimport\u001B[39;00m List, Tuple, Any, Union, Optional, Dict\n",
      "File \u001B[1;32mC:\\ProgramData\\anaconda3\\envs\\kanagawa\\lib\\site-packages\\pycaret\\internal\\tabular.py:17\u001B[0m\n\u001B[0;32m      9\u001B[0m \u001B[38;5;28;01mfrom\u001B[39;00m \u001B[38;5;21;01mpycaret\u001B[39;00m\u001B[38;5;21;01m.\u001B[39;00m\u001B[38;5;21;01minternal\u001B[39;00m\u001B[38;5;21;01m.\u001B[39;00m\u001B[38;5;21;01mmeta_estimators\u001B[39;00m \u001B[38;5;28;01mimport\u001B[39;00m (\n\u001B[0;32m     10\u001B[0m     PowerTransformedTargetRegressor,\n\u001B[0;32m     11\u001B[0m     get_estimator_from_meta_estimator,\n\u001B[0;32m     12\u001B[0m )\n\u001B[0;32m     13\u001B[0m \u001B[38;5;28;01mfrom\u001B[39;00m \u001B[38;5;21;01mpycaret\u001B[39;00m\u001B[38;5;21;01m.\u001B[39;00m\u001B[38;5;21;01minternal\u001B[39;00m\u001B[38;5;21;01m.\u001B[39;00m\u001B[38;5;21;01mpatches\u001B[39;00m\u001B[38;5;21;01m.\u001B[39;00m\u001B[38;5;21;01mtune_sklearn\u001B[39;00m \u001B[38;5;28;01mimport\u001B[39;00m (\n\u001B[0;32m     14\u001B[0m     get_tune_sklearn_tunegridsearchcv,\n\u001B[0;32m     15\u001B[0m     get_tune_sklearn_tunesearchcv,\n\u001B[0;32m     16\u001B[0m )\n\u001B[1;32m---> 17\u001B[0m \u001B[38;5;28;01mfrom\u001B[39;00m \u001B[38;5;21;01mpycaret\u001B[39;00m\u001B[38;5;21;01m.\u001B[39;00m\u001B[38;5;21;01minternal\u001B[39;00m\u001B[38;5;21;01m.\u001B[39;00m\u001B[38;5;21;01mpipeline\u001B[39;00m \u001B[38;5;28;01mimport\u001B[39;00m (\n\u001B[0;32m     18\u001B[0m     add_estimator_to_pipeline,\n\u001B[0;32m     19\u001B[0m     get_pipeline_estimator_label,\n\u001B[0;32m     20\u001B[0m     make_internal_pipeline,\n\u001B[0;32m     21\u001B[0m     estimator_pipeline,\n\u001B[0;32m     22\u001B[0m     merge_pipelines,\n\u001B[0;32m     23\u001B[0m     Pipeline \u001B[38;5;28;01mas\u001B[39;00m InternalPipeline,\n\u001B[0;32m     24\u001B[0m )\n\u001B[0;32m     25\u001B[0m \u001B[38;5;28;01mfrom\u001B[39;00m \u001B[38;5;21;01mpycaret\u001B[39;00m\u001B[38;5;21;01m.\u001B[39;00m\u001B[38;5;21;01minternal\u001B[39;00m\u001B[38;5;21;01m.\u001B[39;00m\u001B[38;5;21;01mutils\u001B[39;00m \u001B[38;5;28;01mimport\u001B[39;00m (\n\u001B[0;32m     26\u001B[0m     color_df,\n\u001B[0;32m     27\u001B[0m     normalize_custom_transformers,\n\u001B[1;32m   (...)\u001B[0m\n\u001B[0;32m     31\u001B[0m     infer_ml_usecase,\n\u001B[0;32m     32\u001B[0m )\n\u001B[0;32m     33\u001B[0m \u001B[38;5;28;01mimport\u001B[39;00m \u001B[38;5;21;01mpycaret\u001B[39;00m\u001B[38;5;21;01m.\u001B[39;00m\u001B[38;5;21;01minternal\u001B[39;00m\u001B[38;5;21;01m.\u001B[39;00m\u001B[38;5;21;01mpatches\u001B[39;00m\u001B[38;5;21;01m.\u001B[39;00m\u001B[38;5;21;01msklearn\u001B[39;00m\n",
      "File \u001B[1;32mC:\\ProgramData\\anaconda3\\envs\\kanagawa\\lib\\site-packages\\pycaret\\internal\\pipeline.py:15\u001B[0m\n\u001B[0;32m     13\u001B[0m \u001B[38;5;28;01mfrom\u001B[39;00m \u001B[38;5;21;01msklearn\u001B[39;00m\u001B[38;5;21;01m.\u001B[39;00m\u001B[38;5;21;01mutils\u001B[39;00m \u001B[38;5;28;01mimport\u001B[39;00m _print_elapsed_time\n\u001B[0;32m     14\u001B[0m \u001B[38;5;28;01mfrom\u001B[39;00m \u001B[38;5;21;01msklearn\u001B[39;00m\u001B[38;5;21;01m.\u001B[39;00m\u001B[38;5;21;01mbase\u001B[39;00m \u001B[38;5;28;01mimport\u001B[39;00m BaseEstimator, TransformerMixin, clone\n\u001B[1;32m---> 15\u001B[0m \u001B[38;5;28;01mfrom\u001B[39;00m \u001B[38;5;21;01msklearn\u001B[39;00m\u001B[38;5;21;01m.\u001B[39;00m\u001B[38;5;21;01mutils\u001B[39;00m\u001B[38;5;21;01m.\u001B[39;00m\u001B[38;5;21;01mmetaestimators\u001B[39;00m \u001B[38;5;28;01mimport\u001B[39;00m if_delegate_has_method\n\u001B[0;32m     16\u001B[0m \u001B[38;5;28;01mimport\u001B[39;00m \u001B[38;5;21;01msklearn\u001B[39;00m\u001B[38;5;21;01m.\u001B[39;00m\u001B[38;5;21;01mpipeline\u001B[39;00m\n\u001B[0;32m     17\u001B[0m \u001B[38;5;28;01mfrom\u001B[39;00m \u001B[38;5;21;01mpycaret\u001B[39;00m\u001B[38;5;21;01m.\u001B[39;00m\u001B[38;5;21;01minternal\u001B[39;00m\u001B[38;5;21;01m.\u001B[39;00m\u001B[38;5;21;01mvalidation\u001B[39;00m \u001B[38;5;28;01mimport\u001B[39;00m is_fitted\n",
      "\u001B[1;31mImportError\u001B[0m: cannot import name 'if_delegate_has_method' from 'sklearn.utils.metaestimators' (C:\\ProgramData\\anaconda3\\envs\\kanagawa\\lib\\site-packages\\sklearn\\utils\\metaestimators.py)"
     ]
    }
   ],
   "source": [
    "from pycaret.classification import *\n",
    "model1 = setup(data = data, target = 'Disease')"
   ],
   "metadata": {
    "collapsed": false,
    "ExecuteTime": {
     "end_time": "2024-01-06T13:55:28.740348Z",
     "start_time": "2024-01-06T13:55:24.152755100Z"
    }
   },
   "id": "83083b74c86e5a5f"
  },
  {
   "cell_type": "code",
   "execution_count": null,
   "outputs": [],
   "source": [
    "random_forest = create_model('rf')"
   ],
   "metadata": {
    "collapsed": false
   },
   "id": "beb947c17e64f047"
  }
 ],
 "metadata": {
  "kernelspec": {
   "display_name": "Python 3",
   "language": "python",
   "name": "python3"
  },
  "language_info": {
   "codemirror_mode": {
    "name": "ipython",
    "version": 2
   },
   "file_extension": ".py",
   "mimetype": "text/x-python",
   "name": "python",
   "nbconvert_exporter": "python",
   "pygments_lexer": "ipython2",
   "version": "2.7.6"
  }
 },
 "nbformat": 4,
 "nbformat_minor": 5
}
